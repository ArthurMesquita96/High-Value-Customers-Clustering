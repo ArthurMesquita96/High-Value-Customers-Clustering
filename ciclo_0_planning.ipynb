{
 "cells": [
  {
   "cell_type": "markdown",
   "id": "4b91bbc6",
   "metadata": {},
   "source": [
    "# PA005: High Value Customer Identification (Insiders)"
   ]
  },
  {
   "cell_type": "markdown",
   "id": "a4ed81de",
   "metadata": {},
   "source": [
    "## 0.0 Planejamento da Solução"
   ]
  },
  {
   "cell_type": "markdown",
   "id": "f792154c",
   "metadata": {},
   "source": [
    "### Input - Entrada"
   ]
  },
  {
   "cell_type": "markdown",
   "id": "a461e329",
   "metadata": {},
   "source": [
    "1. Problema de Negócio\n",
    "    - Seecionar os clientes mais valiosos para integrar um programa de fidelização\n",
    "\n",
    "\n",
    "2. Conjunto de Dados\n",
    "    - Vendas de um e-commerce onine, durante o período de um ano"
   ]
  },
  {
   "cell_type": "markdown",
   "id": "33dbe64b",
   "metadata": {},
   "source": [
    "### Output - Saída"
   ]
  },
  {
   "cell_type": "markdown",
   "id": "14eb3359",
   "metadata": {},
   "source": [
    "1. A indicação das pessoas que farão parte do programa de Insiders\n",
    "    - Lista: client_id | is_insider\n",
    "             102030    |   yes/1\n",
    "             203040    |   no/2\n",
    "             \n",
    "2. Relatório com as respostas das perguntas de negócio\n",
    "\n",
    "- Quem são as pessoas elegíveis para participar do programa de Insiders ?\n",
    "- Quantos clientes farão parte do grupo?\n",
    "- Quais as principais características desses clientes ?\n",
    "- Qual a porcentagem de contribuição do faturamento, vinda do Insiders ?\n",
    "- Qual a expectativa de faturamento desse grupo para os próximos meses ?\n",
    "- Quais as condições para uma pessoa ser elegível ao Insiders ?\n",
    "- Quais as condições para uma pessoa ser removida do Insiders ?\n",
    "- Qual a garantia que o programa Insiders é melhor que o restante da base ?\n",
    "- Quais ações o time de marketing pode realizar para aumentar o faturamento?"
   ]
  },
  {
   "cell_type": "markdown",
   "id": "bc0aafc4",
   "metadata": {},
   "source": [
    "### Tasks - Tarefas"
   ]
  },
  {
   "cell_type": "markdown",
   "id": "3d06c8a9",
   "metadata": {},
   "source": [
    "1. Quem são as pessoas elegíveis para participar do programa de Insiders ?\n",
    "    - O que é ser elegível? O que são clientes de maior valor?\n",
    "    - Faturamento:\n",
    "        - Alto ticket médio\n",
    "        - Alto LTV\n",
    "        - Baixa recência\n",
    "        - Alto basket size\n",
    "        - Baixa probabilidade de churn\n",
    "        - Alta Previsão de LTV\n",
    "        - Alta probabilidade de compra\n",
    "\n",
    "    - Custo:\n",
    "        - Baixa taxa de devolução\n",
    "        \n",
    "    - Experiência de compra:\n",
    "        - Média alta das avaliações\n",
    "        \n",
    "\n",
    "2. Quantos clientes farão parte do grupo?\n",
    "    - Número total de clientes \n",
    "        - Calcula a porcentagem do grupo insiders\n",
    "        \n",
    "        \n",
    "3. Quais as principais características desses clientes ?\n",
    "    - Escrever características do cliente:\n",
    "        - Idade\n",
    "        - Localização\n",
    "        \n",
    "    - Escrever caraterísitacas do consumo:\n",
    "        - Atributos da Clusterização\n",
    "        \n",
    "        \n",
    "4. Qual a porcentagem de contribuição do faturamento, vinda do Insiders ?\n",
    "    - Faturamento total do ano\n",
    "    - Faturameto do grupo Insiders\n",
    "    \n",
    "    \n",
    "5. Qual a expectativa de faturamento desse grupo para os próximos meses ?\n",
    "    - LTV do grupo Insiders\n",
    "    - Análise de Cohort\n",
    "    \n",
    "    \n",
    "6. Quais as condições para uma pessoa ser elegível ao Insiders ?\n",
    "    - Definir a periodicidade\n",
    "    - A pessoa precisa ser similar ou parecido com uma pessoa/grupo\n",
    "    \n",
    "    \n",
    "7. Quais as condições para uma pessoa ser removida do Insiders ?\n",
    "    - Definir a periodicidade\n",
    "    - A pessoa precisa ser diferente com uma pessoa/grupo\n",
    "    \n",
    "    \n",
    "8. Qual a garantia que o programa Insiders é melhor que o restante da base ?\n",
    "    - Teste A/B\n",
    "    - Teste A/B Bayesino\n",
    "    - Teste de hipóteses\n",
    "    \n",
    "    \n",
    "9. Quais ações o time de marketing pode realizar para aumentar o faturamento?\n",
    "    - Desconto\n",
    "    - Preferência de compra\n",
    "    - Frete\n",
    "    - Visita a empresa"
   ]
  },
  {
   "cell_type": "markdown",
   "id": "890a9c22",
   "metadata": {},
   "source": [
    "# Benchmark de soluções"
   ]
  },
  {
   "cell_type": "markdown",
   "id": "738945de",
   "metadata": {},
   "source": [
    "## Modelo RFM"
   ]
  },
  {
   "cell_type": "markdown",
   "id": "8cc66740",
   "metadata": {},
   "source": [
    "1. Recency\n",
    "    - Tempo desde a última compra\n",
    "    - Responsividade\n",
    "    \n",
    "\n",
    "2. Frequency: \n",
    "    - Tempo médio entre as transações\n",
    "    - Engajamento\n",
    "    \n",
    "    \n",
    "3. Monetary\n",
    "    - Total gasto, faturamento\n",
    "    - \"High value purchase\""
   ]
  },
  {
   "cell_type": "markdown",
   "id": "46ca77fe",
   "metadata": {
    "heading_collapsed": true
   },
   "source": [
    "### Passo 01. Recency Score"
   ]
  },
  {
   "cell_type": "markdown",
   "id": "c4b4c5f6",
   "metadata": {
    "hidden": true
   },
   "source": [
    "1. Passo 01:\n",
    "    - Ordenar os cliente por Recency\n",
    "    \n",
    "    \n",
    "2. Passo 02:\n",
    "    - Dividir a base de clientes de acordo com as notas\n",
    "        - Notas de 1-5 (5 notas)\n",
    "        - 5 grupos de 20% cada\n",
    "        \n"
   ]
  },
  {
   "cell_type": "markdown",
   "id": "ae792527",
   "metadata": {
    "heading_collapsed": true
   },
   "source": [
    "### Passo 02. Frequency Score"
   ]
  },
  {
   "cell_type": "markdown",
   "id": "8d21b219",
   "metadata": {
    "hidden": true
   },
   "source": [
    "1. Passo 03:\n",
    "    - Ordenar os cletes por Frequency\n",
    "\n",
    "\n",
    "2. Passo 04:\n",
    "    - Dividir a base de cliente de acordo com as notas"
   ]
  },
  {
   "cell_type": "markdown",
   "id": "2e0aa3fc",
   "metadata": {
    "heading_collapsed": true
   },
   "source": [
    "### Passo 03. Monetary Score"
   ]
  },
  {
   "cell_type": "markdown",
   "id": "896ed561",
   "metadata": {
    "hidden": true
   },
   "source": [
    "1. Passo 05:\n",
    "    - Ordenar os cletes por Frequency\n",
    "    \n",
    "    \n",
    "2. Passo 06:\n",
    "    - Dividir a base de cliente de acordo com as notas"
   ]
  },
  {
   "cell_type": "markdown",
   "id": "edc92c00",
   "metadata": {
    "heading_collapsed": true
   },
   "source": [
    "### RFM Score"
   ]
  },
  {
   "cell_type": "markdown",
   "id": "342f6532",
   "metadata": {
    "hidden": true
   },
   "source": [
    "1. Passo 07. \n",
    "    - Calcular a média das notas para R, F, M"
   ]
  },
  {
   "cell_type": "markdown",
   "id": "f1f02dcf",
   "metadata": {},
   "source": [
    "### RFM Segmentarion"
   ]
  },
  {
   "cell_type": "markdown",
   "id": "5154c5ad",
   "metadata": {},
   "source": [
    "1. Passo 07. "
   ]
  }
 ],
 "metadata": {
  "kernelspec": {
   "display_name": "Python 3 (ipykernel)",
   "language": "python",
   "name": "python3"
  },
  "language_info": {
   "codemirror_mode": {
    "name": "ipython",
    "version": 3
   },
   "file_extension": ".py",
   "mimetype": "text/x-python",
   "name": "python",
   "nbconvert_exporter": "python",
   "pygments_lexer": "ipython3",
   "version": "3.9.12"
  }
 },
 "nbformat": 4,
 "nbformat_minor": 5
}
