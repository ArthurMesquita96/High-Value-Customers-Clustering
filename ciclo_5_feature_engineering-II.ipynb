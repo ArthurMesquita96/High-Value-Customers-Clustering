{
 "cells": [
  {
   "cell_type": "markdown",
   "id": "4c750d93",
   "metadata": {},
   "source": [
    "# PA005: High Value Customer Identification (Insiders)"
   ]
  },
  {
   "cell_type": "markdown",
   "id": "69ae8489",
   "metadata": {
    "heading_collapsed": true
   },
   "source": [
    "## <font color = 'darkblue'> Ciclo 00 - Planejamento da Solução - Método IoT </f>"
   ]
  },
  {
   "cell_type": "markdown",
   "id": "14d45637",
   "metadata": {
    "heading_collapsed": true,
    "hidden": true
   },
   "source": [
    "### Input - Entrada"
   ]
  },
  {
   "cell_type": "markdown",
   "id": "369f2c25",
   "metadata": {
    "hidden": true
   },
   "source": [
    "1. Problema de Negócio\n",
    "    - Seecionar os clientes mais valiosos para integrar um programa de fidelização\n",
    "\n",
    "\n",
    "2. Conjunto de Dados\n",
    "    - Vendas de um e-commerce onine, durante o período de um ano"
   ]
  },
  {
   "cell_type": "markdown",
   "id": "c2363197",
   "metadata": {
    "heading_collapsed": true,
    "hidden": true
   },
   "source": [
    "### Output - Saída"
   ]
  },
  {
   "cell_type": "markdown",
   "id": "bba42293",
   "metadata": {
    "hidden": true
   },
   "source": [
    "1. A indicação das pessoas que farão parte do programa de Insiders\n",
    "    - Lista: client_id | is_insider\n",
    "             102030    |   yes/1\n",
    "             203040    |   no/2\n",
    "             \n",
    "2. Relatório com as respostas das perguntas de negócio\n",
    "\n",
    "- Quem são as pessoas elegíveis para participar do programa de Insiders ?\n",
    "- Quantos clientes farão parte do grupo?\n",
    "- Quais as principais características desses clientes ?\n",
    "- Qual a porcentagem de contribuição do faturamento, vinda do Insiders ?\n",
    "- Qual a expectativa de faturamento desse grupo para os próximos meses ?\n",
    "- Quais as condições para uma pessoa ser elegível ao Insiders ?\n",
    "- Quais as condições para uma pessoa ser removida do Insiders ?\n",
    "- Qual a garantia que o programa Insiders é melhor que o restante da base ?\n",
    "- Quais ações o time de marketing pode realizar para aumentar o faturamento?"
   ]
  },
  {
   "cell_type": "markdown",
   "id": "efbd2cd3",
   "metadata": {
    "heading_collapsed": true,
    "hidden": true
   },
   "source": [
    "### Tasks - Tarefas"
   ]
  },
  {
   "cell_type": "markdown",
   "id": "9eb87903",
   "metadata": {
    "hidden": true
   },
   "source": [
    "1. Quem são as pessoas elegíveis para participar do programa de Insiders ?\n",
    "    - O que é ser elegível? O que são clientes de maior valor?\n",
    "    - Faturamento:\n",
    "        - Alto ticket médio\n",
    "        - Alto LTV\n",
    "        - Baixa recência\n",
    "        - Alto basket size\n",
    "        - Baixa probabilidade de churn\n",
    "        - Alta Previsão de LTV\n",
    "        - Alta probabilidade de compra\n",
    "\n",
    "    - Custo:\n",
    "        - Baixa taxa de devolução\n",
    "        \n",
    "    - Experiência de compra:\n",
    "        - Média alta das avaliações\n",
    "        \n",
    "\n",
    "2. Quantos clientes farão parte do grupo?\n",
    "    - Número total de clientes \n",
    "        - Calcula a porcentagem do grupo insiders\n",
    "        \n",
    "        \n",
    "3. Quais as principais características desses clientes ?\n",
    "    - Escrever características do cliente:\n",
    "        - Idade\n",
    "        - Localização\n",
    "        \n",
    "    - Escrever caraterísitacas do consumo:\n",
    "        - Atributos da Clusterização\n",
    "        \n",
    "        \n",
    "4. Qual a porcentagem de contribuição do faturamento, vinda do Insiders ?\n",
    "    - Faturamento total do ano\n",
    "    - Faturameto do grupo Insiders\n",
    "    \n",
    "    \n",
    "5. Qual a expectativa de faturamento desse grupo para os próximos meses ?\n",
    "    - LTV do grupo Insiders\n",
    "    - Análise de Cohort\n",
    "    \n",
    "    \n",
    "6. Quais as condições para uma pessoa ser elegível ao Insiders ?\n",
    "    - Definir a periodicidade\n",
    "    - A pessoa precisa ser similar ou parecido com uma pessoa/grupo\n",
    "    \n",
    "    \n",
    "7. Quais as condições para uma pessoa ser removida do Insiders ?\n",
    "    - Definir a periodicidade\n",
    "    - A pessoa precisa ser diferente com uma pessoa/grupo\n",
    "    \n",
    "    \n",
    "8. Qual a garantia que o programa Insiders é melhor que o restante da base ?\n",
    "    - Teste A/B\n",
    "    - Teste A/B Bayesino\n",
    "    - Teste de hipóteses\n",
    "    \n",
    "    \n",
    "9. Quais ações o time de marketing pode realizar para aumentar o faturamento?\n",
    "    - Desconto\n",
    "    - Preferência de compra\n",
    "    - Frete\n",
    "    - Visita a empresa"
   ]
  },
  {
   "cell_type": "markdown",
   "id": "0f6398d5",
   "metadata": {
    "heading_collapsed": true
   },
   "source": [
    "## <font color = 'darkblue'> Ciclo 01 - Métricas de Validação de Clusters </f>"
   ]
  },
  {
   "cell_type": "markdown",
   "id": "039f5235",
   "metadata": {
    "hidden": true
   },
   "source": [
    "1. Feature Engineering\n",
    "    - Recência\n",
    "    - Frequência\n",
    "    - Monetização\n",
    "    \n",
    "    \n",
    "2. Métricas de validação de Clsutering\n",
    "    - WSS (within-Cluster Sum of Square)\n",
    "    - SS (Silhouette Score)\n",
    "    \n",
    "    \n",
    "3. Cluster Analysis\n",
    "    - Plot 3D\n",
    "    - Cluster Profile"
   ]
  },
  {
   "cell_type": "markdown",
   "id": "bf040eab",
   "metadata": {
    "heading_collapsed": true
   },
   "source": [
    "## <font color = 'darkblue'> Ciclo 02 - Análise de Silhouette </f>"
   ]
  },
  {
   "cell_type": "markdown",
   "id": "55d67a76",
   "metadata": {
    "hidden": true
   },
   "source": [
    "1. Feature Engineering\n",
    "    - Average Ticket\n",
    "    \n",
    "    \n",
    "2. Análise de Silhouette\n",
    "    - Silhouette Analysis\n",
    "    \n",
    "    \n",
    "3. Cluster Visualization\n",
    "    - UMAP\n",
    "    \n",
    "    \n",
    "4. Análise de Perfil dos Clusters\n",
    "    - Descrição dos centróides"
   ]
  },
  {
   "cell_type": "markdown",
   "id": "aa2c7546",
   "metadata": {
    "heading_collapsed": true
   },
   "source": [
    "## <font color = 'darkblue'> Ciclo 03 - Estatística Descritiva </f>"
   ]
  },
  {
   "cell_type": "markdown",
   "id": "7eb2ed4c",
   "metadata": {
    "hidden": true
   },
   "source": [
    "1. Análise Descritiva\n",
    "    - Atributos numéricos\n",
    "    - Atributos categóricos\n",
    "\n",
    "\n",
    "2. Feature Engineering\n",
    "    - Average Recency\n",
    "    - Number od Returns\n",
    "    \n",
    "\n",
    "3. Data preparation\n",
    "    - Standard Scaler"
   ]
  },
  {
   "cell_type": "markdown",
   "id": "96a44132",
   "metadata": {},
   "source": [
    "# <font color = 'green'> 0.0. Imports </f>"
   ]
  },
  {
   "cell_type": "code",
   "execution_count": 174,
   "id": "0f0d93b5",
   "metadata": {
    "ExecuteTime": {
     "end_time": "2022-09-08T19:08:20.004432Z",
     "start_time": "2022-09-08T19:08:19.991355Z"
    }
   },
   "outputs": [],
   "source": [
    "import numpy as np\n",
    "import pandas as pd\n",
    "import seaborn as sns\n",
    "import regex as re\n",
    "\n",
    "from matplotlib import pyplot as plt\n",
    "from IPython.display import HTML\n",
    "from sklearn import cluster as c\n",
    "from sklearn import metrics as m\n",
    "from sklearn import preprocessing as pp\n",
    "from yellowbrick.cluster import KElbowVisualizer, SilhouetteVisualizer\n",
    "\n",
    "from plotly import express as px\n",
    "import umap.umap_ as umap"
   ]
  },
  {
   "cell_type": "markdown",
   "id": "a498db25",
   "metadata": {},
   "source": [
    "## <font color = 'green'> 0.1. Helper Functions </f>"
   ]
  },
  {
   "cell_type": "code",
   "execution_count": null,
   "id": "e852f1c5",
   "metadata": {},
   "outputs": [],
   "source": []
  },
  {
   "cell_type": "markdown",
   "id": "640778f5",
   "metadata": {},
   "source": [
    "## <font color = 'green'> 0.2. Load Dataset </f>"
   ]
  },
  {
   "cell_type": "code",
   "execution_count": 175,
   "id": "58d5aa5b",
   "metadata": {
    "ExecuteTime": {
     "end_time": "2022-09-08T19:08:20.847985Z",
     "start_time": "2022-09-08T19:08:20.094193Z"
    }
   },
   "outputs": [],
   "source": [
    "# load data\n",
    "df_raw = pd.read_csv('data/Ecommerce.csv',encoding='unicode_escape')\n",
    "\n",
    "# Remove extra columns\n",
    "df_raw = df_raw.drop(columns=['Unnamed: 8'],axis=1)"
   ]
  },
  {
   "cell_type": "code",
   "execution_count": 176,
   "id": "ad1afbc0",
   "metadata": {
    "ExecuteTime": {
     "end_time": "2022-09-08T19:08:20.863907Z",
     "start_time": "2022-09-08T19:08:20.850061Z"
    }
   },
   "outputs": [
    {
     "data": {
      "text/plain": [
       "Index(['InvoiceNo', 'StockCode', 'Description', 'Quantity', 'InvoiceDate',\n",
       "       'UnitPrice', 'CustomerID', 'Country'],\n",
       "      dtype='object')"
      ]
     },
     "execution_count": 176,
     "metadata": {},
     "output_type": "execute_result"
    }
   ],
   "source": [
    "df_raw.columns"
   ]
  },
  {
   "cell_type": "markdown",
   "id": "b933bf3d",
   "metadata": {},
   "source": [
    "# <font color = 'green'> 1.0. Data Description </f>"
   ]
  },
  {
   "cell_type": "code",
   "execution_count": 177,
   "id": "44c63d25",
   "metadata": {
    "ExecuteTime": {
     "end_time": "2022-09-08T19:08:20.895015Z",
     "start_time": "2022-09-08T19:08:20.864904Z"
    }
   },
   "outputs": [],
   "source": [
    "df1 = df_raw.copy()"
   ]
  },
  {
   "cell_type": "markdown",
   "id": "0f3dafe1",
   "metadata": {},
   "source": [
    "## <font color = 'green'> 1.1. Rename Columns </f>"
   ]
  },
  {
   "cell_type": "code",
   "execution_count": 178,
   "id": "4ac6ebe2",
   "metadata": {
    "ExecuteTime": {
     "end_time": "2022-09-08T19:08:20.910973Z",
     "start_time": "2022-09-08T19:08:20.898007Z"
    }
   },
   "outputs": [],
   "source": [
    "cols_new = ['invoice_no', 'stock_code', 'description', 'quantity', 'invoice_date',\n",
    "               'unit_price', 'customer_id', 'country']\n",
    "df1.columns = cols_new"
   ]
  },
  {
   "cell_type": "code",
   "execution_count": 179,
   "id": "e1ef1541",
   "metadata": {
    "ExecuteTime": {
     "end_time": "2022-09-08T19:08:20.940893Z",
     "start_time": "2022-09-08T19:08:20.912967Z"
    }
   },
   "outputs": [
    {
     "data": {
      "text/html": [
       "<div>\n",
       "<style scoped>\n",
       "    .dataframe tbody tr th:only-of-type {\n",
       "        vertical-align: middle;\n",
       "    }\n",
       "\n",
       "    .dataframe tbody tr th {\n",
       "        vertical-align: top;\n",
       "    }\n",
       "\n",
       "    .dataframe thead th {\n",
       "        text-align: right;\n",
       "    }\n",
       "</style>\n",
       "<table border=\"1\" class=\"dataframe\">\n",
       "  <thead>\n",
       "    <tr style=\"text-align: right;\">\n",
       "      <th></th>\n",
       "      <th>invoice_no</th>\n",
       "      <th>stock_code</th>\n",
       "      <th>description</th>\n",
       "      <th>quantity</th>\n",
       "      <th>invoice_date</th>\n",
       "      <th>unit_price</th>\n",
       "      <th>customer_id</th>\n",
       "      <th>country</th>\n",
       "    </tr>\n",
       "  </thead>\n",
       "  <tbody>\n",
       "    <tr>\n",
       "      <th>397536</th>\n",
       "      <td>571188</td>\n",
       "      <td>22625</td>\n",
       "      <td>RED KITCHEN SCALES</td>\n",
       "      <td>2</td>\n",
       "      <td>12-Oct-17</td>\n",
       "      <td>8.5</td>\n",
       "      <td>12783.0</td>\n",
       "      <td>Portugal</td>\n",
       "    </tr>\n",
       "  </tbody>\n",
       "</table>\n",
       "</div>"
      ],
      "text/plain": [
       "       invoice_no stock_code         description  quantity invoice_date  \\\n",
       "397536     571188      22625  RED KITCHEN SCALES         2    12-Oct-17   \n",
       "\n",
       "        unit_price  customer_id   country  \n",
       "397536         8.5      12783.0  Portugal  "
      ]
     },
     "execution_count": 179,
     "metadata": {},
     "output_type": "execute_result"
    }
   ],
   "source": [
    "df1.sample()"
   ]
  },
  {
   "cell_type": "markdown",
   "id": "9985b63c",
   "metadata": {},
   "source": [
    "## <font color = 'green'> 1.2. Data dimensions </f>"
   ]
  },
  {
   "cell_type": "code",
   "execution_count": 180,
   "id": "2ec8cce0",
   "metadata": {
    "ExecuteTime": {
     "end_time": "2022-09-08T19:08:20.956850Z",
     "start_time": "2022-09-08T19:08:20.941890Z"
    }
   },
   "outputs": [
    {
     "name": "stdout",
     "output_type": "stream",
     "text": [
      "Rows: 541909\n",
      "Columns: 8\n"
     ]
    }
   ],
   "source": [
    "print('Rows: {}'.format(df1.shape[0]))\n",
    "print('Columns: {}'.format(df1.shape[1]))"
   ]
  },
  {
   "cell_type": "markdown",
   "id": "f84bf2ef",
   "metadata": {},
   "source": [
    "## <font color = 'green'> 1.3. Data Types </f>"
   ]
  },
  {
   "cell_type": "code",
   "execution_count": 181,
   "id": "03b7679b",
   "metadata": {
    "ExecuteTime": {
     "end_time": "2022-09-08T19:08:20.971810Z",
     "start_time": "2022-09-08T19:08:20.957847Z"
    }
   },
   "outputs": [
    {
     "data": {
      "text/plain": [
       "invoice_no       object\n",
       "stock_code       object\n",
       "description      object\n",
       "quantity          int64\n",
       "invoice_date     object\n",
       "unit_price      float64\n",
       "customer_id     float64\n",
       "country          object\n",
       "dtype: object"
      ]
     },
     "execution_count": 181,
     "metadata": {},
     "output_type": "execute_result"
    }
   ],
   "source": [
    "df1.dtypes"
   ]
  },
  {
   "cell_type": "markdown",
   "id": "33d23b23",
   "metadata": {},
   "source": [
    "## <font color = 'green'> 1.4. Chack NA </f>"
   ]
  },
  {
   "cell_type": "code",
   "execution_count": 182,
   "id": "64deab01",
   "metadata": {
    "ExecuteTime": {
     "end_time": "2022-09-08T19:08:21.373928Z",
     "start_time": "2022-09-08T19:08:20.973804Z"
    }
   },
   "outputs": [
    {
     "data": {
      "text/plain": [
       "invoice_no           0\n",
       "stock_code           0\n",
       "description       1454\n",
       "quantity             0\n",
       "invoice_date         0\n",
       "unit_price           0\n",
       "customer_id     135080\n",
       "country              0\n",
       "dtype: int64"
      ]
     },
     "execution_count": 182,
     "metadata": {},
     "output_type": "execute_result"
    }
   ],
   "source": [
    "df1.isna().sum()"
   ]
  },
  {
   "cell_type": "markdown",
   "id": "339b2dfb",
   "metadata": {},
   "source": [
    "## <font color = 'green'> 1.5. Replace NA </f>"
   ]
  },
  {
   "cell_type": "code",
   "execution_count": 183,
   "id": "e7c7d38a",
   "metadata": {
    "ExecuteTime": {
     "end_time": "2022-09-08T19:08:21.435053Z",
     "start_time": "2022-09-08T19:08:21.375885Z"
    }
   },
   "outputs": [],
   "source": [
    "df_missing = df1[df1['customer_id'].isna()]\n",
    "df_not_missing = df1[~df1['customer_id'].isna()]"
   ]
  },
  {
   "cell_type": "code",
   "execution_count": 184,
   "id": "4fdb168f",
   "metadata": {
    "ExecuteTime": {
     "end_time": "2022-09-08T19:08:21.792489Z",
     "start_time": "2022-09-08T19:08:21.445286Z"
    }
   },
   "outputs": [],
   "source": [
    "# create reference\n",
    "df_backup = pd.DataFrame(df_missing['invoice_no'].drop_duplicates())\n",
    "df_backup['customer_id'] = np.arange(19000, 19000 + len(df_backup), 1)\n",
    "\n",
    "# merge with orginal dataframe\n",
    "df1 = pd.merge(df1, df_backup, how='left', on='invoice_no')\n",
    "\n",
    "# coalesce \n",
    "df1['customer_id'] = df1['customer_id_x'].combine_first(df1['customer_id_y'])\n",
    "\n",
    "# drop extra columns\n",
    "df1 = df1.drop(columns=['customer_id_x','customer_id_y'])"
   ]
  },
  {
   "cell_type": "code",
   "execution_count": 185,
   "id": "0158ffa5",
   "metadata": {
    "ExecuteTime": {
     "end_time": "2022-09-08T19:08:22.281239Z",
     "start_time": "2022-09-08T19:08:21.795353Z"
    }
   },
   "outputs": [
    {
     "data": {
      "text/plain": [
       "invoice_no         0\n",
       "stock_code         0\n",
       "description     1454\n",
       "quantity           0\n",
       "invoice_date       0\n",
       "unit_price         0\n",
       "country            0\n",
       "customer_id        0\n",
       "dtype: int64"
      ]
     },
     "execution_count": 185,
     "metadata": {},
     "output_type": "execute_result"
    }
   ],
   "source": [
    "df1.isna().sum()"
   ]
  },
  {
   "cell_type": "markdown",
   "id": "057603a1",
   "metadata": {},
   "source": [
    "## <font color = 'green'> 1.6. Change dtypes </f>"
   ]
  },
  {
   "cell_type": "code",
   "execution_count": 186,
   "id": "6c58c66d",
   "metadata": {
    "ExecuteTime": {
     "end_time": "2022-09-08T19:08:22.296104Z",
     "start_time": "2022-09-08T19:08:22.283014Z"
    }
   },
   "outputs": [
    {
     "data": {
      "text/plain": [
       "invoice_no       object\n",
       "stock_code       object\n",
       "description      object\n",
       "quantity          int64\n",
       "invoice_date     object\n",
       "unit_price      float64\n",
       "country          object\n",
       "customer_id     float64\n",
       "dtype: object"
      ]
     },
     "execution_count": 186,
     "metadata": {},
     "output_type": "execute_result"
    }
   ],
   "source": [
    "df1.dtypes"
   ]
  },
  {
   "cell_type": "code",
   "execution_count": 187,
   "id": "bd6be4a4",
   "metadata": {
    "ExecuteTime": {
     "end_time": "2022-09-08T19:08:22.404898Z",
     "start_time": "2022-09-08T19:08:22.297974Z"
    }
   },
   "outputs": [
    {
     "data": {
      "text/html": [
       "<div>\n",
       "<style scoped>\n",
       "    .dataframe tbody tr th:only-of-type {\n",
       "        vertical-align: middle;\n",
       "    }\n",
       "\n",
       "    .dataframe tbody tr th {\n",
       "        vertical-align: top;\n",
       "    }\n",
       "\n",
       "    .dataframe thead th {\n",
       "        text-align: right;\n",
       "    }\n",
       "</style>\n",
       "<table border=\"1\" class=\"dataframe\">\n",
       "  <thead>\n",
       "    <tr style=\"text-align: right;\">\n",
       "      <th></th>\n",
       "      <th>invoice_no</th>\n",
       "      <th>stock_code</th>\n",
       "      <th>description</th>\n",
       "      <th>quantity</th>\n",
       "      <th>invoice_date</th>\n",
       "      <th>unit_price</th>\n",
       "      <th>country</th>\n",
       "      <th>customer_id</th>\n",
       "    </tr>\n",
       "  </thead>\n",
       "  <tbody>\n",
       "    <tr>\n",
       "      <th>0</th>\n",
       "      <td>536365</td>\n",
       "      <td>85123A</td>\n",
       "      <td>WHITE HANGING HEART T-LIGHT HOLDER</td>\n",
       "      <td>6</td>\n",
       "      <td>2016-11-29</td>\n",
       "      <td>2.55</td>\n",
       "      <td>United Kingdom</td>\n",
       "      <td>17850</td>\n",
       "    </tr>\n",
       "    <tr>\n",
       "      <th>1</th>\n",
       "      <td>536365</td>\n",
       "      <td>71053</td>\n",
       "      <td>WHITE METAL LANTERN</td>\n",
       "      <td>6</td>\n",
       "      <td>2016-11-29</td>\n",
       "      <td>3.39</td>\n",
       "      <td>United Kingdom</td>\n",
       "      <td>17850</td>\n",
       "    </tr>\n",
       "    <tr>\n",
       "      <th>2</th>\n",
       "      <td>536365</td>\n",
       "      <td>84406B</td>\n",
       "      <td>CREAM CUPID HEARTS COAT HANGER</td>\n",
       "      <td>8</td>\n",
       "      <td>2016-11-29</td>\n",
       "      <td>2.75</td>\n",
       "      <td>United Kingdom</td>\n",
       "      <td>17850</td>\n",
       "    </tr>\n",
       "    <tr>\n",
       "      <th>3</th>\n",
       "      <td>536365</td>\n",
       "      <td>84029G</td>\n",
       "      <td>KNITTED UNION FLAG HOT WATER BOTTLE</td>\n",
       "      <td>6</td>\n",
       "      <td>2016-11-29</td>\n",
       "      <td>3.39</td>\n",
       "      <td>United Kingdom</td>\n",
       "      <td>17850</td>\n",
       "    </tr>\n",
       "    <tr>\n",
       "      <th>4</th>\n",
       "      <td>536365</td>\n",
       "      <td>84029E</td>\n",
       "      <td>RED WOOLLY HOTTIE WHITE HEART.</td>\n",
       "      <td>6</td>\n",
       "      <td>2016-11-29</td>\n",
       "      <td>3.39</td>\n",
       "      <td>United Kingdom</td>\n",
       "      <td>17850</td>\n",
       "    </tr>\n",
       "  </tbody>\n",
       "</table>\n",
       "</div>"
      ],
      "text/plain": [
       "  invoice_no stock_code                          description  quantity  \\\n",
       "0     536365     85123A   WHITE HANGING HEART T-LIGHT HOLDER         6   \n",
       "1     536365      71053                  WHITE METAL LANTERN         6   \n",
       "2     536365     84406B       CREAM CUPID HEARTS COAT HANGER         8   \n",
       "3     536365     84029G  KNITTED UNION FLAG HOT WATER BOTTLE         6   \n",
       "4     536365     84029E       RED WOOLLY HOTTIE WHITE HEART.         6   \n",
       "\n",
       "  invoice_date  unit_price         country  customer_id  \n",
       "0   2016-11-29        2.55  United Kingdom        17850  \n",
       "1   2016-11-29        3.39  United Kingdom        17850  \n",
       "2   2016-11-29        2.75  United Kingdom        17850  \n",
       "3   2016-11-29        3.39  United Kingdom        17850  \n",
       "4   2016-11-29        3.39  United Kingdom        17850  "
      ]
     },
     "execution_count": 187,
     "metadata": {},
     "output_type": "execute_result"
    }
   ],
   "source": [
    "# invoice_date\n",
    "df1['invoice_date'] = pd.to_datetime(df1['invoice_date'], format='%d-%b-%y')\n",
    "\n",
    "# customer_id\n",
    "df1['customer_id'] = df1['customer_id'].astype('int64')\n",
    "df1.head()"
   ]
  },
  {
   "cell_type": "code",
   "execution_count": 188,
   "id": "0c78a794",
   "metadata": {
    "ExecuteTime": {
     "end_time": "2022-09-08T19:08:22.419912Z",
     "start_time": "2022-09-08T19:08:22.408011Z"
    }
   },
   "outputs": [
    {
     "data": {
      "text/plain": [
       "invoice_no              object\n",
       "stock_code              object\n",
       "description             object\n",
       "quantity                 int64\n",
       "invoice_date    datetime64[ns]\n",
       "unit_price             float64\n",
       "country                 object\n",
       "customer_id              int64\n",
       "dtype: object"
      ]
     },
     "execution_count": 188,
     "metadata": {},
     "output_type": "execute_result"
    }
   ],
   "source": [
    "df1.dtypes"
   ]
  },
  {
   "cell_type": "markdown",
   "id": "a7efc8cb",
   "metadata": {},
   "source": [
    "## <font color = 'green'> 1.7. Descriptive Analysis </f>"
   ]
  },
  {
   "cell_type": "code",
   "execution_count": 189,
   "id": "35ee69d3",
   "metadata": {
    "ExecuteTime": {
     "end_time": "2022-09-08T19:08:22.435778Z",
     "start_time": "2022-09-08T19:08:22.422158Z"
    }
   },
   "outputs": [],
   "source": [
    "num_attributes = df1.select_dtypes(include=['int64','float64'])\n",
    "cat_attributes = df1.select_dtypes(exclude=['int64','float64'])"
   ]
  },
  {
   "cell_type": "markdown",
   "id": "45ad1a01",
   "metadata": {},
   "source": [
    "### <font color = 'b'> 1.7.1. Numericals Attributes </f>"
   ]
  },
  {
   "cell_type": "code",
   "execution_count": 190,
   "id": "a7128a89",
   "metadata": {
    "ExecuteTime": {
     "end_time": "2022-09-08T19:08:22.592406Z",
     "start_time": "2022-09-08T19:08:22.437773Z"
    }
   },
   "outputs": [
    {
     "data": {
      "text/html": [
       "<div>\n",
       "<style scoped>\n",
       "    .dataframe tbody tr th:only-of-type {\n",
       "        vertical-align: middle;\n",
       "    }\n",
       "\n",
       "    .dataframe tbody tr th {\n",
       "        vertical-align: top;\n",
       "    }\n",
       "\n",
       "    .dataframe thead th {\n",
       "        text-align: right;\n",
       "    }\n",
       "</style>\n",
       "<table border=\"1\" class=\"dataframe\">\n",
       "  <thead>\n",
       "    <tr style=\"text-align: right;\">\n",
       "      <th></th>\n",
       "      <th>attributes</th>\n",
       "      <th>min</th>\n",
       "      <th>max</th>\n",
       "      <th>range</th>\n",
       "      <th>mean</th>\n",
       "      <th>median</th>\n",
       "      <th>std</th>\n",
       "      <th>skew</th>\n",
       "      <th>kurtosis</th>\n",
       "    </tr>\n",
       "  </thead>\n",
       "  <tbody>\n",
       "    <tr>\n",
       "      <th>0</th>\n",
       "      <td>quantity</td>\n",
       "      <td>-80995.00</td>\n",
       "      <td>80995.0</td>\n",
       "      <td>161990.00</td>\n",
       "      <td>9.552250</td>\n",
       "      <td>3.00</td>\n",
       "      <td>218.080957</td>\n",
       "      <td>-0.264076</td>\n",
       "      <td>119769.160031</td>\n",
       "    </tr>\n",
       "    <tr>\n",
       "      <th>1</th>\n",
       "      <td>unit_price</td>\n",
       "      <td>-11062.06</td>\n",
       "      <td>38970.0</td>\n",
       "      <td>50032.06</td>\n",
       "      <td>4.611114</td>\n",
       "      <td>2.08</td>\n",
       "      <td>96.759764</td>\n",
       "      <td>186.506972</td>\n",
       "      <td>59005.719097</td>\n",
       "    </tr>\n",
       "    <tr>\n",
       "      <th>2</th>\n",
       "      <td>customer_id</td>\n",
       "      <td>12346.00</td>\n",
       "      <td>22709.0</td>\n",
       "      <td>10363.00</td>\n",
       "      <td>16688.840453</td>\n",
       "      <td>16249.00</td>\n",
       "      <td>2911.408666</td>\n",
       "      <td>0.487449</td>\n",
       "      <td>-0.804287</td>\n",
       "    </tr>\n",
       "  </tbody>\n",
       "</table>\n",
       "</div>"
      ],
      "text/plain": [
       "    attributes       min      max      range          mean    median  \\\n",
       "0     quantity -80995.00  80995.0  161990.00      9.552250      3.00   \n",
       "1   unit_price -11062.06  38970.0   50032.06      4.611114      2.08   \n",
       "2  customer_id  12346.00  22709.0   10363.00  16688.840453  16249.00   \n",
       "\n",
       "           std        skew       kurtosis  \n",
       "0   218.080957   -0.264076  119769.160031  \n",
       "1    96.759764  186.506972   59005.719097  \n",
       "2  2911.408666    0.487449      -0.804287  "
      ]
     },
     "execution_count": 190,
     "metadata": {},
     "output_type": "execute_result"
    }
   ],
   "source": [
    "# central tendency - mean, median\n",
    "ct1 = pd.DataFrame(num_attributes.apply(np.mean)).T\n",
    "ct2 = pd.DataFrame(num_attributes.apply(np.median)).T\n",
    "\n",
    "# dispersion - desvio padrão, minimo, máximo, range, skew, kurtosis\n",
    "d1 = pd.DataFrame(num_attributes.apply(np.std)).T\n",
    "d2 = pd.DataFrame(num_attributes.apply(np.min)).T\n",
    "d3 = pd.DataFrame(num_attributes.apply(np.max)).T\n",
    "d4 = pd.DataFrame(num_attributes.apply(lambda x: x.max() - x.min())).T\n",
    "d5 = pd.DataFrame(num_attributes.apply(lambda x: x.skew())).T\n",
    "d6 = pd.DataFrame(num_attributes.apply(lambda x: x.kurtosis())).T\n",
    "\n",
    "metrics = pd.concat([d2,d3,d4,ct1, ct2,d1,d5,d6]).T.reset_index()\n",
    "metrics.columns = ['attributes', 'min', 'max', 'range','mean','median','std','skew','kurtosis']\n",
    "metrics"
   ]
  },
  {
   "cell_type": "markdown",
   "id": "97801d33",
   "metadata": {},
   "source": [
    "#### <font color = 'b'> 1.7.1.1 Numericals Attributes - Investigating</f>"
   ]
  },
  {
   "cell_type": "markdown",
   "id": "317ba1d5",
   "metadata": {},
   "source": [
    "1. Quantidade Negativa (pode ser devolução)\n",
    "2. Preço unitário igual a zero (pode ser promoção)"
   ]
  },
  {
   "cell_type": "markdown",
   "id": "57ba8ac8",
   "metadata": {},
   "source": [
    "### <font color = 'b'> 1.7.2. Categorical Attributes </f>"
   ]
  },
  {
   "cell_type": "markdown",
   "id": "6d512ef6",
   "metadata": {},
   "source": [
    "#### Invoice No"
   ]
  },
  {
   "cell_type": "code",
   "execution_count": 191,
   "id": "6a4a1c8b",
   "metadata": {
    "ExecuteTime": {
     "end_time": "2022-09-08T19:08:27.952742Z",
     "start_time": "2022-09-08T19:08:22.595352Z"
    }
   },
   "outputs": [
    {
     "name": "stdout",
     "output_type": "stream",
     "text": [
      "Total number of invoices with letters: 9291.\n",
      "Total number of negative quantity in invoices with letters: 9288.\n"
     ]
    }
   ],
   "source": [
    "df_letter_invoices = df1[df1['invoice_no'].apply(lambda x: bool(re.search('[^0-9]+',x)))]\n",
    "df_letter_invoices.head()\n",
    "\n",
    "print('Total number of invoices with letters: {}.'.format(len(df_letter_invoices)))\n",
    "print('Total number of negative quantity in invoices with letters: {}.'.format(len(df_letter_invoices[df_letter_invoices['quantity'] < 0])))"
   ]
  },
  {
   "cell_type": "markdown",
   "id": "0a30dc14",
   "metadata": {},
   "source": [
    "#### Stock Code"
   ]
  },
  {
   "cell_type": "code",
   "execution_count": 192,
   "id": "81ffc2d5",
   "metadata": {
    "ExecuteTime": {
     "end_time": "2022-09-08T19:08:33.090473Z",
     "start_time": "2022-09-08T19:08:27.956778Z"
    }
   },
   "outputs": [
    {
     "data": {
      "text/plain": [
       "array(['POST', 'D', 'DOT', 'M', 'S', 'AMAZONFEE', 'm', 'DCGSSBOY',\n",
       "       'DCGSSGIRL', 'PADS', 'B', 'CRUK'], dtype=object)"
      ]
     },
     "execution_count": 192,
     "metadata": {},
     "output_type": "execute_result"
    }
   ],
   "source": [
    "# check stock codes only characters\n",
    "trash = df1[df1['stock_code'].apply(lambda x: bool(re.search('^[a-zA-Z]+$',x)))]['stock_code'].unique()\n",
    "trash\n",
    "# Action:\n",
    "# remove stock_code in ['POST', 'D', 'M', 'PADS', 'DOT', 'CRUK']"
   ]
  },
  {
   "cell_type": "code",
   "execution_count": 193,
   "id": "9c47994f",
   "metadata": {
    "ExecuteTime": {
     "end_time": "2022-09-08T19:08:38.646222Z",
     "start_time": "2022-09-08T19:08:33.093060Z"
    }
   },
   "outputs": [
    {
     "data": {
      "text/html": [
       "<div>\n",
       "<style scoped>\n",
       "    .dataframe tbody tr th:only-of-type {\n",
       "        vertical-align: middle;\n",
       "    }\n",
       "\n",
       "    .dataframe tbody tr th {\n",
       "        vertical-align: top;\n",
       "    }\n",
       "\n",
       "    .dataframe thead th {\n",
       "        text-align: right;\n",
       "    }\n",
       "</style>\n",
       "<table border=\"1\" class=\"dataframe\">\n",
       "  <thead>\n",
       "    <tr style=\"text-align: right;\">\n",
       "      <th></th>\n",
       "      <th>invoice_no</th>\n",
       "      <th>stock_code</th>\n",
       "      <th>description</th>\n",
       "      <th>quantity</th>\n",
       "      <th>invoice_date</th>\n",
       "      <th>unit_price</th>\n",
       "      <th>country</th>\n",
       "      <th>customer_id</th>\n",
       "    </tr>\n",
       "  </thead>\n",
       "  <tbody>\n",
       "    <tr>\n",
       "      <th>0</th>\n",
       "      <td>536365</td>\n",
       "      <td>85123A</td>\n",
       "      <td>WHITE HANGING HEART T-LIGHT HOLDER</td>\n",
       "      <td>6</td>\n",
       "      <td>2016-11-29</td>\n",
       "      <td>2.55</td>\n",
       "      <td>United Kingdom</td>\n",
       "      <td>17850</td>\n",
       "    </tr>\n",
       "    <tr>\n",
       "      <th>2</th>\n",
       "      <td>536365</td>\n",
       "      <td>84406B</td>\n",
       "      <td>CREAM CUPID HEARTS COAT HANGER</td>\n",
       "      <td>8</td>\n",
       "      <td>2016-11-29</td>\n",
       "      <td>2.75</td>\n",
       "      <td>United Kingdom</td>\n",
       "      <td>17850</td>\n",
       "    </tr>\n",
       "    <tr>\n",
       "      <th>3</th>\n",
       "      <td>536365</td>\n",
       "      <td>84029G</td>\n",
       "      <td>KNITTED UNION FLAG HOT WATER BOTTLE</td>\n",
       "      <td>6</td>\n",
       "      <td>2016-11-29</td>\n",
       "      <td>3.39</td>\n",
       "      <td>United Kingdom</td>\n",
       "      <td>17850</td>\n",
       "    </tr>\n",
       "    <tr>\n",
       "      <th>4</th>\n",
       "      <td>536365</td>\n",
       "      <td>84029E</td>\n",
       "      <td>RED WOOLLY HOTTIE WHITE HEART.</td>\n",
       "      <td>6</td>\n",
       "      <td>2016-11-29</td>\n",
       "      <td>3.39</td>\n",
       "      <td>United Kingdom</td>\n",
       "      <td>17850</td>\n",
       "    </tr>\n",
       "    <tr>\n",
       "      <th>45</th>\n",
       "      <td>536370</td>\n",
       "      <td>POST</td>\n",
       "      <td>POSTAGE</td>\n",
       "      <td>3</td>\n",
       "      <td>2016-11-29</td>\n",
       "      <td>18.00</td>\n",
       "      <td>France</td>\n",
       "      <td>12583</td>\n",
       "    </tr>\n",
       "  </tbody>\n",
       "</table>\n",
       "</div>"
      ],
      "text/plain": [
       "   invoice_no stock_code                          description  quantity  \\\n",
       "0      536365     85123A   WHITE HANGING HEART T-LIGHT HOLDER         6   \n",
       "2      536365     84406B       CREAM CUPID HEARTS COAT HANGER         8   \n",
       "3      536365     84029G  KNITTED UNION FLAG HOT WATER BOTTLE         6   \n",
       "4      536365     84029E       RED WOOLLY HOTTIE WHITE HEART.         6   \n",
       "45     536370       POST                              POSTAGE         3   \n",
       "\n",
       "   invoice_date  unit_price         country  customer_id  \n",
       "0    2016-11-29        2.55  United Kingdom        17850  \n",
       "2    2016-11-29        2.75  United Kingdom        17850  \n",
       "3    2016-11-29        3.39  United Kingdom        17850  \n",
       "4    2016-11-29        3.39  United Kingdom        17850  \n",
       "45   2016-11-29       18.00          France        12583  "
      ]
     },
     "execution_count": 193,
     "metadata": {},
     "output_type": "execute_result"
    }
   ],
   "source": [
    "df1[df1['stock_code'].apply(lambda x: bool(re.search('[^0-9]+',x)))].head()"
   ]
  },
  {
   "cell_type": "markdown",
   "id": "809ba15d",
   "metadata": {},
   "source": [
    "#### Description"
   ]
  },
  {
   "cell_type": "code",
   "execution_count": 194,
   "id": "339584d5",
   "metadata": {
    "ExecuteTime": {
     "end_time": "2022-09-08T19:08:38.662103Z",
     "start_time": "2022-09-08T19:08:38.648368Z"
    }
   },
   "outputs": [
    {
     "data": {
      "text/html": [
       "<div>\n",
       "<style scoped>\n",
       "    .dataframe tbody tr th:only-of-type {\n",
       "        vertical-align: middle;\n",
       "    }\n",
       "\n",
       "    .dataframe tbody tr th {\n",
       "        vertical-align: top;\n",
       "    }\n",
       "\n",
       "    .dataframe thead th {\n",
       "        text-align: right;\n",
       "    }\n",
       "</style>\n",
       "<table border=\"1\" class=\"dataframe\">\n",
       "  <thead>\n",
       "    <tr style=\"text-align: right;\">\n",
       "      <th></th>\n",
       "      <th>invoice_no</th>\n",
       "      <th>stock_code</th>\n",
       "      <th>description</th>\n",
       "      <th>quantity</th>\n",
       "      <th>invoice_date</th>\n",
       "      <th>unit_price</th>\n",
       "      <th>country</th>\n",
       "      <th>customer_id</th>\n",
       "    </tr>\n",
       "  </thead>\n",
       "  <tbody>\n",
       "    <tr>\n",
       "      <th>0</th>\n",
       "      <td>536365</td>\n",
       "      <td>85123A</td>\n",
       "      <td>WHITE HANGING HEART T-LIGHT HOLDER</td>\n",
       "      <td>6</td>\n",
       "      <td>2016-11-29</td>\n",
       "      <td>2.55</td>\n",
       "      <td>United Kingdom</td>\n",
       "      <td>17850</td>\n",
       "    </tr>\n",
       "    <tr>\n",
       "      <th>1</th>\n",
       "      <td>536365</td>\n",
       "      <td>71053</td>\n",
       "      <td>WHITE METAL LANTERN</td>\n",
       "      <td>6</td>\n",
       "      <td>2016-11-29</td>\n",
       "      <td>3.39</td>\n",
       "      <td>United Kingdom</td>\n",
       "      <td>17850</td>\n",
       "    </tr>\n",
       "    <tr>\n",
       "      <th>2</th>\n",
       "      <td>536365</td>\n",
       "      <td>84406B</td>\n",
       "      <td>CREAM CUPID HEARTS COAT HANGER</td>\n",
       "      <td>8</td>\n",
       "      <td>2016-11-29</td>\n",
       "      <td>2.75</td>\n",
       "      <td>United Kingdom</td>\n",
       "      <td>17850</td>\n",
       "    </tr>\n",
       "    <tr>\n",
       "      <th>3</th>\n",
       "      <td>536365</td>\n",
       "      <td>84029G</td>\n",
       "      <td>KNITTED UNION FLAG HOT WATER BOTTLE</td>\n",
       "      <td>6</td>\n",
       "      <td>2016-11-29</td>\n",
       "      <td>3.39</td>\n",
       "      <td>United Kingdom</td>\n",
       "      <td>17850</td>\n",
       "    </tr>\n",
       "    <tr>\n",
       "      <th>4</th>\n",
       "      <td>536365</td>\n",
       "      <td>84029E</td>\n",
       "      <td>RED WOOLLY HOTTIE WHITE HEART.</td>\n",
       "      <td>6</td>\n",
       "      <td>2016-11-29</td>\n",
       "      <td>3.39</td>\n",
       "      <td>United Kingdom</td>\n",
       "      <td>17850</td>\n",
       "    </tr>\n",
       "  </tbody>\n",
       "</table>\n",
       "</div>"
      ],
      "text/plain": [
       "  invoice_no stock_code                          description  quantity  \\\n",
       "0     536365     85123A   WHITE HANGING HEART T-LIGHT HOLDER         6   \n",
       "1     536365      71053                  WHITE METAL LANTERN         6   \n",
       "2     536365     84406B       CREAM CUPID HEARTS COAT HANGER         8   \n",
       "3     536365     84029G  KNITTED UNION FLAG HOT WATER BOTTLE         6   \n",
       "4     536365     84029E       RED WOOLLY HOTTIE WHITE HEART.         6   \n",
       "\n",
       "  invoice_date  unit_price         country  customer_id  \n",
       "0   2016-11-29        2.55  United Kingdom        17850  \n",
       "1   2016-11-29        3.39  United Kingdom        17850  \n",
       "2   2016-11-29        2.75  United Kingdom        17850  \n",
       "3   2016-11-29        3.39  United Kingdom        17850  \n",
       "4   2016-11-29        3.39  United Kingdom        17850  "
      ]
     },
     "execution_count": 194,
     "metadata": {},
     "output_type": "execute_result"
    }
   ],
   "source": [
    "df1.head()"
   ]
  },
  {
   "cell_type": "code",
   "execution_count": 195,
   "id": "45eaabeb",
   "metadata": {
    "ExecuteTime": {
     "end_time": "2022-09-08T19:08:38.678025Z",
     "start_time": "2022-09-08T19:08:38.663846Z"
    }
   },
   "outputs": [],
   "source": [
    "# Action: delete description"
   ]
  },
  {
   "cell_type": "markdown",
   "id": "33e6a4a4",
   "metadata": {},
   "source": [
    "#### Country"
   ]
  },
  {
   "cell_type": "code",
   "execution_count": 196,
   "id": "5ee21791",
   "metadata": {
    "ExecuteTime": {
     "end_time": "2022-09-08T19:08:38.726060Z",
     "start_time": "2022-09-08T19:08:38.680449Z"
    }
   },
   "outputs": [
    {
     "data": {
      "text/plain": [
       "array(['United Kingdom', 'France', 'Australia', 'Netherlands', 'Germany',\n",
       "       'Norway', 'EIRE', 'Switzerland', 'Spain', 'Poland', 'Portugal',\n",
       "       'Italy', 'Belgium', 'Lithuania', 'Japan', 'Iceland',\n",
       "       'Channel Islands', 'Denmark', 'Cyprus', 'Sweden', 'Austria',\n",
       "       'Israel', 'Finland', 'Bahrain', 'Greece', 'Hong Kong', 'Singapore',\n",
       "       'Lebanon', 'United Arab Emirates', 'Saudi Arabia',\n",
       "       'Czech Republic', 'Canada', 'Unspecified', 'Brazil', 'USA',\n",
       "       'European Community', 'Malta', 'RSA'], dtype=object)"
      ]
     },
     "execution_count": 196,
     "metadata": {},
     "output_type": "execute_result"
    }
   ],
   "source": [
    "df1['country'].unique()"
   ]
  },
  {
   "cell_type": "code",
   "execution_count": 197,
   "id": "9c73c08e",
   "metadata": {
    "ExecuteTime": {
     "end_time": "2022-09-08T19:08:38.787124Z",
     "start_time": "2022-09-08T19:08:38.728190Z"
    }
   },
   "outputs": [
    {
     "data": {
      "text/plain": [
       "United Kingdom          91.431956\n",
       "Germany                  1.752139\n",
       "France                   1.579047\n",
       "EIRE                     1.512431\n",
       "Spain                    0.467422\n",
       "Netherlands              0.437527\n",
       "Belgium                  0.381798\n",
       "Switzerland              0.369435\n",
       "Portugal                 0.280305\n",
       "Australia                0.232327\n",
       "Norway                   0.200403\n",
       "Italy                    0.148180\n",
       "Channel Islands          0.139876\n",
       "Finland                  0.128250\n",
       "Cyprus                   0.114779\n",
       "Sweden                   0.085254\n",
       "Unspecified              0.082302\n",
       "Austria                  0.073998\n",
       "Denmark                  0.071783\n",
       "Japan                    0.066063\n",
       "Poland                   0.062926\n",
       "Israel                   0.054806\n",
       "USA                      0.053699\n",
       "Hong Kong                0.053145\n",
       "Singapore                0.042258\n",
       "Iceland                  0.033585\n",
       "Canada                   0.027864\n",
       "Greece                   0.026942\n",
       "Malta                    0.023436\n",
       "United Arab Emirates     0.012548\n",
       "European Community       0.011257\n",
       "RSA                      0.010703\n",
       "Lebanon                  0.008304\n",
       "Lithuania                0.006459\n",
       "Brazil                   0.005905\n",
       "Czech Republic           0.005536\n",
       "Bahrain                  0.003506\n",
       "Saudi Arabia             0.001845\n",
       "Name: country, dtype: float64"
      ]
     },
     "execution_count": 197,
     "metadata": {},
     "output_type": "execute_result"
    }
   ],
   "source": [
    "df1['country'].value_counts(normalize=True)*100"
   ]
  },
  {
   "cell_type": "code",
   "execution_count": 198,
   "id": "0c7d7ed8",
   "metadata": {
    "ExecuteTime": {
     "end_time": "2022-09-08T19:08:38.896828Z",
     "start_time": "2022-09-08T19:08:38.789821Z"
    }
   },
   "outputs": [
    {
     "data": {
      "text/html": [
       "<div>\n",
       "<style scoped>\n",
       "    .dataframe tbody tr th:only-of-type {\n",
       "        vertical-align: middle;\n",
       "    }\n",
       "\n",
       "    .dataframe tbody tr th {\n",
       "        vertical-align: top;\n",
       "    }\n",
       "\n",
       "    .dataframe thead th {\n",
       "        text-align: right;\n",
       "    }\n",
       "</style>\n",
       "<table border=\"1\" class=\"dataframe\">\n",
       "  <thead>\n",
       "    <tr style=\"text-align: right;\">\n",
       "      <th></th>\n",
       "      <th>country</th>\n",
       "      <th>customer_id</th>\n",
       "    </tr>\n",
       "  </thead>\n",
       "  <tbody>\n",
       "    <tr>\n",
       "      <th>36</th>\n",
       "      <td>United Kingdom</td>\n",
       "      <td>7587</td>\n",
       "    </tr>\n",
       "    <tr>\n",
       "      <th>14</th>\n",
       "      <td>Germany</td>\n",
       "      <td>95</td>\n",
       "    </tr>\n",
       "    <tr>\n",
       "      <th>13</th>\n",
       "      <td>France</td>\n",
       "      <td>90</td>\n",
       "    </tr>\n",
       "    <tr>\n",
       "      <th>10</th>\n",
       "      <td>EIRE</td>\n",
       "      <td>44</td>\n",
       "    </tr>\n",
       "    <tr>\n",
       "      <th>31</th>\n",
       "      <td>Spain</td>\n",
       "      <td>31</td>\n",
       "    </tr>\n",
       "    <tr>\n",
       "      <th>3</th>\n",
       "      <td>Belgium</td>\n",
       "      <td>25</td>\n",
       "    </tr>\n",
       "    <tr>\n",
       "      <th>33</th>\n",
       "      <td>Switzerland</td>\n",
       "      <td>24</td>\n",
       "    </tr>\n",
       "    <tr>\n",
       "      <th>27</th>\n",
       "      <td>Portugal</td>\n",
       "      <td>20</td>\n",
       "    </tr>\n",
       "    <tr>\n",
       "      <th>19</th>\n",
       "      <td>Italy</td>\n",
       "      <td>15</td>\n",
       "    </tr>\n",
       "    <tr>\n",
       "      <th>16</th>\n",
       "      <td>Hong Kong</td>\n",
       "      <td>15</td>\n",
       "    </tr>\n",
       "    <tr>\n",
       "      <th>12</th>\n",
       "      <td>Finland</td>\n",
       "      <td>12</td>\n",
       "    </tr>\n",
       "    <tr>\n",
       "      <th>1</th>\n",
       "      <td>Austria</td>\n",
       "      <td>11</td>\n",
       "    </tr>\n",
       "    <tr>\n",
       "      <th>25</th>\n",
       "      <td>Norway</td>\n",
       "      <td>10</td>\n",
       "    </tr>\n",
       "    <tr>\n",
       "      <th>24</th>\n",
       "      <td>Netherlands</td>\n",
       "      <td>9</td>\n",
       "    </tr>\n",
       "    <tr>\n",
       "      <th>0</th>\n",
       "      <td>Australia</td>\n",
       "      <td>9</td>\n",
       "    </tr>\n",
       "    <tr>\n",
       "      <th>37</th>\n",
       "      <td>Unspecified</td>\n",
       "      <td>9</td>\n",
       "    </tr>\n",
       "    <tr>\n",
       "      <th>9</th>\n",
       "      <td>Denmark</td>\n",
       "      <td>9</td>\n",
       "    </tr>\n",
       "    <tr>\n",
       "      <th>6</th>\n",
       "      <td>Channel Islands</td>\n",
       "      <td>9</td>\n",
       "    </tr>\n",
       "    <tr>\n",
       "      <th>7</th>\n",
       "      <td>Cyprus</td>\n",
       "      <td>8</td>\n",
       "    </tr>\n",
       "    <tr>\n",
       "      <th>32</th>\n",
       "      <td>Sweden</td>\n",
       "      <td>8</td>\n",
       "    </tr>\n",
       "    <tr>\n",
       "      <th>20</th>\n",
       "      <td>Japan</td>\n",
       "      <td>8</td>\n",
       "    </tr>\n",
       "    <tr>\n",
       "      <th>18</th>\n",
       "      <td>Israel</td>\n",
       "      <td>7</td>\n",
       "    </tr>\n",
       "    <tr>\n",
       "      <th>26</th>\n",
       "      <td>Poland</td>\n",
       "      <td>6</td>\n",
       "    </tr>\n",
       "    <tr>\n",
       "      <th>5</th>\n",
       "      <td>Canada</td>\n",
       "      <td>4</td>\n",
       "    </tr>\n",
       "    <tr>\n",
       "      <th>34</th>\n",
       "      <td>USA</td>\n",
       "      <td>4</td>\n",
       "    </tr>\n",
       "    <tr>\n",
       "      <th>2</th>\n",
       "      <td>Bahrain</td>\n",
       "      <td>4</td>\n",
       "    </tr>\n",
       "    <tr>\n",
       "      <th>15</th>\n",
       "      <td>Greece</td>\n",
       "      <td>4</td>\n",
       "    </tr>\n",
       "    <tr>\n",
       "      <th>23</th>\n",
       "      <td>Malta</td>\n",
       "      <td>2</td>\n",
       "    </tr>\n",
       "    <tr>\n",
       "      <th>35</th>\n",
       "      <td>United Arab Emirates</td>\n",
       "      <td>2</td>\n",
       "    </tr>\n",
       "    <tr>\n",
       "      <th>8</th>\n",
       "      <td>Czech Republic</td>\n",
       "      <td>1</td>\n",
       "    </tr>\n",
       "    <tr>\n",
       "      <th>22</th>\n",
       "      <td>Lithuania</td>\n",
       "      <td>1</td>\n",
       "    </tr>\n",
       "    <tr>\n",
       "      <th>11</th>\n",
       "      <td>European Community</td>\n",
       "      <td>1</td>\n",
       "    </tr>\n",
       "    <tr>\n",
       "      <th>21</th>\n",
       "      <td>Lebanon</td>\n",
       "      <td>1</td>\n",
       "    </tr>\n",
       "    <tr>\n",
       "      <th>28</th>\n",
       "      <td>RSA</td>\n",
       "      <td>1</td>\n",
       "    </tr>\n",
       "    <tr>\n",
       "      <th>29</th>\n",
       "      <td>Saudi Arabia</td>\n",
       "      <td>1</td>\n",
       "    </tr>\n",
       "    <tr>\n",
       "      <th>30</th>\n",
       "      <td>Singapore</td>\n",
       "      <td>1</td>\n",
       "    </tr>\n",
       "    <tr>\n",
       "      <th>17</th>\n",
       "      <td>Iceland</td>\n",
       "      <td>1</td>\n",
       "    </tr>\n",
       "    <tr>\n",
       "      <th>4</th>\n",
       "      <td>Brazil</td>\n",
       "      <td>1</td>\n",
       "    </tr>\n",
       "  </tbody>\n",
       "</table>\n",
       "</div>"
      ],
      "text/plain": [
       "                 country  customer_id\n",
       "36        United Kingdom         7587\n",
       "14               Germany           95\n",
       "13                France           90\n",
       "10                  EIRE           44\n",
       "31                 Spain           31\n",
       "3                Belgium           25\n",
       "33           Switzerland           24\n",
       "27              Portugal           20\n",
       "19                 Italy           15\n",
       "16             Hong Kong           15\n",
       "12               Finland           12\n",
       "1                Austria           11\n",
       "25                Norway           10\n",
       "24           Netherlands            9\n",
       "0              Australia            9\n",
       "37           Unspecified            9\n",
       "9                Denmark            9\n",
       "6        Channel Islands            9\n",
       "7                 Cyprus            8\n",
       "32                Sweden            8\n",
       "20                 Japan            8\n",
       "18                Israel            7\n",
       "26                Poland            6\n",
       "5                 Canada            4\n",
       "34                   USA            4\n",
       "2                Bahrain            4\n",
       "15                Greece            4\n",
       "23                 Malta            2\n",
       "35  United Arab Emirates            2\n",
       "8         Czech Republic            1\n",
       "22             Lithuania            1\n",
       "11    European Community            1\n",
       "21               Lebanon            1\n",
       "28                   RSA            1\n",
       "29          Saudi Arabia            1\n",
       "30             Singapore            1\n",
       "17               Iceland            1\n",
       "4                 Brazil            1"
      ]
     },
     "execution_count": 198,
     "metadata": {},
     "output_type": "execute_result"
    }
   ],
   "source": [
    "df1[['customer_id','country']].drop_duplicates().groupby('country').count().reset_index().sort_values('customer_id',ascending=False)"
   ]
  },
  {
   "cell_type": "markdown",
   "id": "f11d9a50",
   "metadata": {},
   "source": [
    "# <font color = 'green'> 2.0. Filtering Variables </f>"
   ]
  },
  {
   "cell_type": "code",
   "execution_count": 199,
   "id": "f262a3bc",
   "metadata": {
    "ExecuteTime": {
     "end_time": "2022-09-08T19:08:38.927167Z",
     "start_time": "2022-09-08T19:08:38.897829Z"
    }
   },
   "outputs": [],
   "source": [
    "df2 = df1.copy()"
   ]
  },
  {
   "cell_type": "code",
   "execution_count": 200,
   "id": "75bd1a11",
   "metadata": {
    "ExecuteTime": {
     "end_time": "2022-09-08T19:08:38.942674Z",
     "start_time": "2022-09-08T19:08:38.930032Z"
    }
   },
   "outputs": [
    {
     "data": {
      "text/plain": [
       "invoice_no              object\n",
       "stock_code              object\n",
       "description             object\n",
       "quantity                 int64\n",
       "invoice_date    datetime64[ns]\n",
       "unit_price             float64\n",
       "country                 object\n",
       "customer_id              int64\n",
       "dtype: object"
      ]
     },
     "execution_count": 200,
     "metadata": {},
     "output_type": "execute_result"
    }
   ],
   "source": [
    "df2.dtypes"
   ]
  },
  {
   "cell_type": "code",
   "execution_count": 201,
   "id": "004ed50f",
   "metadata": {
    "ExecuteTime": {
     "end_time": "2022-09-08T19:08:39.242374Z",
     "start_time": "2022-09-08T19:08:38.944669Z"
    }
   },
   "outputs": [],
   "source": [
    "# === Numerical Attributes =====\n",
    "# unit_price > 0.0\n",
    "df2 = df2[df2['unit_price'] > 0.04]\n",
    "\n",
    "# quantity\n",
    "df2_purchase = df2[df2['quantity'] >= 0]\n",
    "df2_returns = df2[df2['quantity'] < 0]\n",
    "\n",
    "# === Categorical Attributes\n",
    "# stock_code\n",
    "df2 = df2[~df2['stock_code'].isin(trash)]\n",
    "\n",
    "# description\n",
    "df2 = df2.drop('description', axis=1)\n",
    "\n",
    "# map\n",
    "df2 = df2[~df2['country'].isin(['European Community','Unspecified'])]"
   ]
  },
  {
   "cell_type": "code",
   "execution_count": 202,
   "id": "3fb16704",
   "metadata": {
    "ExecuteTime": {
     "end_time": "2022-09-08T19:08:39.272561Z",
     "start_time": "2022-09-08T19:08:39.249379Z"
    }
   },
   "outputs": [
    {
     "data": {
      "text/html": [
       "<div>\n",
       "<style scoped>\n",
       "    .dataframe tbody tr th:only-of-type {\n",
       "        vertical-align: middle;\n",
       "    }\n",
       "\n",
       "    .dataframe tbody tr th {\n",
       "        vertical-align: top;\n",
       "    }\n",
       "\n",
       "    .dataframe thead th {\n",
       "        text-align: right;\n",
       "    }\n",
       "</style>\n",
       "<table border=\"1\" class=\"dataframe\">\n",
       "  <thead>\n",
       "    <tr style=\"text-align: right;\">\n",
       "      <th></th>\n",
       "      <th>invoice_no</th>\n",
       "      <th>stock_code</th>\n",
       "      <th>description</th>\n",
       "      <th>quantity</th>\n",
       "      <th>invoice_date</th>\n",
       "      <th>unit_price</th>\n",
       "      <th>country</th>\n",
       "      <th>customer_id</th>\n",
       "    </tr>\n",
       "  </thead>\n",
       "  <tbody>\n",
       "    <tr>\n",
       "      <th>0</th>\n",
       "      <td>536365</td>\n",
       "      <td>85123A</td>\n",
       "      <td>WHITE HANGING HEART T-LIGHT HOLDER</td>\n",
       "      <td>6</td>\n",
       "      <td>2016-11-29</td>\n",
       "      <td>2.55</td>\n",
       "      <td>United Kingdom</td>\n",
       "      <td>17850</td>\n",
       "    </tr>\n",
       "    <tr>\n",
       "      <th>1</th>\n",
       "      <td>536365</td>\n",
       "      <td>71053</td>\n",
       "      <td>WHITE METAL LANTERN</td>\n",
       "      <td>6</td>\n",
       "      <td>2016-11-29</td>\n",
       "      <td>3.39</td>\n",
       "      <td>United Kingdom</td>\n",
       "      <td>17850</td>\n",
       "    </tr>\n",
       "    <tr>\n",
       "      <th>2</th>\n",
       "      <td>536365</td>\n",
       "      <td>84406B</td>\n",
       "      <td>CREAM CUPID HEARTS COAT HANGER</td>\n",
       "      <td>8</td>\n",
       "      <td>2016-11-29</td>\n",
       "      <td>2.75</td>\n",
       "      <td>United Kingdom</td>\n",
       "      <td>17850</td>\n",
       "    </tr>\n",
       "    <tr>\n",
       "      <th>3</th>\n",
       "      <td>536365</td>\n",
       "      <td>84029G</td>\n",
       "      <td>KNITTED UNION FLAG HOT WATER BOTTLE</td>\n",
       "      <td>6</td>\n",
       "      <td>2016-11-29</td>\n",
       "      <td>3.39</td>\n",
       "      <td>United Kingdom</td>\n",
       "      <td>17850</td>\n",
       "    </tr>\n",
       "    <tr>\n",
       "      <th>4</th>\n",
       "      <td>536365</td>\n",
       "      <td>84029E</td>\n",
       "      <td>RED WOOLLY HOTTIE WHITE HEART.</td>\n",
       "      <td>6</td>\n",
       "      <td>2016-11-29</td>\n",
       "      <td>3.39</td>\n",
       "      <td>United Kingdom</td>\n",
       "      <td>17850</td>\n",
       "    </tr>\n",
       "    <tr>\n",
       "      <th>...</th>\n",
       "      <td>...</td>\n",
       "      <td>...</td>\n",
       "      <td>...</td>\n",
       "      <td>...</td>\n",
       "      <td>...</td>\n",
       "      <td>...</td>\n",
       "      <td>...</td>\n",
       "      <td>...</td>\n",
       "    </tr>\n",
       "    <tr>\n",
       "      <th>541904</th>\n",
       "      <td>581587</td>\n",
       "      <td>22613</td>\n",
       "      <td>PACK OF 20 SPACEBOY NAPKINS</td>\n",
       "      <td>12</td>\n",
       "      <td>2017-12-07</td>\n",
       "      <td>0.85</td>\n",
       "      <td>France</td>\n",
       "      <td>12680</td>\n",
       "    </tr>\n",
       "    <tr>\n",
       "      <th>541905</th>\n",
       "      <td>581587</td>\n",
       "      <td>22899</td>\n",
       "      <td>CHILDREN'S APRON DOLLY GIRL</td>\n",
       "      <td>6</td>\n",
       "      <td>2017-12-07</td>\n",
       "      <td>2.10</td>\n",
       "      <td>France</td>\n",
       "      <td>12680</td>\n",
       "    </tr>\n",
       "    <tr>\n",
       "      <th>541906</th>\n",
       "      <td>581587</td>\n",
       "      <td>23254</td>\n",
       "      <td>CHILDRENS CUTLERY DOLLY GIRL</td>\n",
       "      <td>4</td>\n",
       "      <td>2017-12-07</td>\n",
       "      <td>4.15</td>\n",
       "      <td>France</td>\n",
       "      <td>12680</td>\n",
       "    </tr>\n",
       "    <tr>\n",
       "      <th>541907</th>\n",
       "      <td>581587</td>\n",
       "      <td>23255</td>\n",
       "      <td>CHILDRENS CUTLERY CIRCUS PARADE</td>\n",
       "      <td>4</td>\n",
       "      <td>2017-12-07</td>\n",
       "      <td>4.15</td>\n",
       "      <td>France</td>\n",
       "      <td>12680</td>\n",
       "    </tr>\n",
       "    <tr>\n",
       "      <th>541908</th>\n",
       "      <td>581587</td>\n",
       "      <td>22138</td>\n",
       "      <td>BAKING SET 9 PIECE RETROSPOT</td>\n",
       "      <td>3</td>\n",
       "      <td>2017-12-07</td>\n",
       "      <td>4.95</td>\n",
       "      <td>France</td>\n",
       "      <td>12680</td>\n",
       "    </tr>\n",
       "  </tbody>\n",
       "</table>\n",
       "<p>530034 rows × 8 columns</p>\n",
       "</div>"
      ],
      "text/plain": [
       "       invoice_no stock_code                          description  quantity  \\\n",
       "0          536365     85123A   WHITE HANGING HEART T-LIGHT HOLDER         6   \n",
       "1          536365      71053                  WHITE METAL LANTERN         6   \n",
       "2          536365     84406B       CREAM CUPID HEARTS COAT HANGER         8   \n",
       "3          536365     84029G  KNITTED UNION FLAG HOT WATER BOTTLE         6   \n",
       "4          536365     84029E       RED WOOLLY HOTTIE WHITE HEART.         6   \n",
       "...           ...        ...                                  ...       ...   \n",
       "541904     581587      22613          PACK OF 20 SPACEBOY NAPKINS        12   \n",
       "541905     581587      22899         CHILDREN'S APRON DOLLY GIRL          6   \n",
       "541906     581587      23254        CHILDRENS CUTLERY DOLLY GIRL          4   \n",
       "541907     581587      23255      CHILDRENS CUTLERY CIRCUS PARADE         4   \n",
       "541908     581587      22138        BAKING SET 9 PIECE RETROSPOT          3   \n",
       "\n",
       "       invoice_date  unit_price         country  customer_id  \n",
       "0        2016-11-29        2.55  United Kingdom        17850  \n",
       "1        2016-11-29        3.39  United Kingdom        17850  \n",
       "2        2016-11-29        2.75  United Kingdom        17850  \n",
       "3        2016-11-29        3.39  United Kingdom        17850  \n",
       "4        2016-11-29        3.39  United Kingdom        17850  \n",
       "...             ...         ...             ...          ...  \n",
       "541904   2017-12-07        0.85          France        12680  \n",
       "541905   2017-12-07        2.10          France        12680  \n",
       "541906   2017-12-07        4.15          France        12680  \n",
       "541907   2017-12-07        4.15          France        12680  \n",
       "541908   2017-12-07        4.95          France        12680  \n",
       "\n",
       "[530034 rows x 8 columns]"
      ]
     },
     "execution_count": 202,
     "metadata": {},
     "output_type": "execute_result"
    }
   ],
   "source": [
    "df2_purchase"
   ]
  },
  {
   "cell_type": "markdown",
   "id": "d023c557",
   "metadata": {},
   "source": [
    "# <font color = 'green'> 3.0. Feature Engineering </f>"
   ]
  },
  {
   "cell_type": "code",
   "execution_count": 203,
   "id": "87e9311e",
   "metadata": {
    "ExecuteTime": {
     "end_time": "2022-09-08T19:08:39.303474Z",
     "start_time": "2022-09-08T19:08:39.275003Z"
    }
   },
   "outputs": [],
   "source": [
    "df3 = df2.copy()"
   ]
  },
  {
   "cell_type": "markdown",
   "id": "659679bf",
   "metadata": {},
   "source": [
    "## <font color = 'b'> 3.1. Feature Creation </f>"
   ]
  },
  {
   "cell_type": "code",
   "execution_count": 204,
   "id": "b62bf6d2",
   "metadata": {
    "ExecuteTime": {
     "end_time": "2022-09-08T19:08:39.319394Z",
     "start_time": "2022-09-08T19:08:39.305431Z"
    }
   },
   "outputs": [
    {
     "data": {
      "text/html": [
       "<div>\n",
       "<style scoped>\n",
       "    .dataframe tbody tr th:only-of-type {\n",
       "        vertical-align: middle;\n",
       "    }\n",
       "\n",
       "    .dataframe tbody tr th {\n",
       "        vertical-align: top;\n",
       "    }\n",
       "\n",
       "    .dataframe thead th {\n",
       "        text-align: right;\n",
       "    }\n",
       "</style>\n",
       "<table border=\"1\" class=\"dataframe\">\n",
       "  <thead>\n",
       "    <tr style=\"text-align: right;\">\n",
       "      <th></th>\n",
       "      <th>invoice_no</th>\n",
       "      <th>stock_code</th>\n",
       "      <th>quantity</th>\n",
       "      <th>invoice_date</th>\n",
       "      <th>unit_price</th>\n",
       "      <th>country</th>\n",
       "      <th>customer_id</th>\n",
       "    </tr>\n",
       "  </thead>\n",
       "  <tbody>\n",
       "    <tr>\n",
       "      <th>0</th>\n",
       "      <td>536365</td>\n",
       "      <td>85123A</td>\n",
       "      <td>6</td>\n",
       "      <td>2016-11-29</td>\n",
       "      <td>2.55</td>\n",
       "      <td>United Kingdom</td>\n",
       "      <td>17850</td>\n",
       "    </tr>\n",
       "    <tr>\n",
       "      <th>1</th>\n",
       "      <td>536365</td>\n",
       "      <td>71053</td>\n",
       "      <td>6</td>\n",
       "      <td>2016-11-29</td>\n",
       "      <td>3.39</td>\n",
       "      <td>United Kingdom</td>\n",
       "      <td>17850</td>\n",
       "    </tr>\n",
       "    <tr>\n",
       "      <th>2</th>\n",
       "      <td>536365</td>\n",
       "      <td>84406B</td>\n",
       "      <td>8</td>\n",
       "      <td>2016-11-29</td>\n",
       "      <td>2.75</td>\n",
       "      <td>United Kingdom</td>\n",
       "      <td>17850</td>\n",
       "    </tr>\n",
       "    <tr>\n",
       "      <th>3</th>\n",
       "      <td>536365</td>\n",
       "      <td>84029G</td>\n",
       "      <td>6</td>\n",
       "      <td>2016-11-29</td>\n",
       "      <td>3.39</td>\n",
       "      <td>United Kingdom</td>\n",
       "      <td>17850</td>\n",
       "    </tr>\n",
       "    <tr>\n",
       "      <th>4</th>\n",
       "      <td>536365</td>\n",
       "      <td>84029E</td>\n",
       "      <td>6</td>\n",
       "      <td>2016-11-29</td>\n",
       "      <td>3.39</td>\n",
       "      <td>United Kingdom</td>\n",
       "      <td>17850</td>\n",
       "    </tr>\n",
       "  </tbody>\n",
       "</table>\n",
       "</div>"
      ],
      "text/plain": [
       "  invoice_no stock_code  quantity invoice_date  unit_price         country  \\\n",
       "0     536365     85123A         6   2016-11-29        2.55  United Kingdom   \n",
       "1     536365      71053         6   2016-11-29        3.39  United Kingdom   \n",
       "2     536365     84406B         8   2016-11-29        2.75  United Kingdom   \n",
       "3     536365     84029G         6   2016-11-29        3.39  United Kingdom   \n",
       "4     536365     84029E         6   2016-11-29        3.39  United Kingdom   \n",
       "\n",
       "   customer_id  \n",
       "0        17850  \n",
       "1        17850  \n",
       "2        17850  \n",
       "3        17850  \n",
       "4        17850  "
      ]
     },
     "execution_count": 204,
     "metadata": {},
     "output_type": "execute_result"
    }
   ],
   "source": [
    "df2.head()"
   ]
  },
  {
   "cell_type": "code",
   "execution_count": 205,
   "id": "a7d7c7a0",
   "metadata": {
    "ExecuteTime": {
     "end_time": "2022-09-08T19:08:39.365271Z",
     "start_time": "2022-09-08T19:08:39.321389Z"
    }
   },
   "outputs": [],
   "source": [
    "df_ref = df3.drop(['invoice_no','stock_code',\n",
    "          'quantity','invoice_date','unit_price',\n",
    "          'country'],axis=1).drop_duplicates(ignore_index=True)"
   ]
  },
  {
   "cell_type": "markdown",
   "id": "1949ecbf",
   "metadata": {},
   "source": [
    "### <font color = 'b'> 3.1.1. Gross Avenue </f>"
   ]
  },
  {
   "cell_type": "code",
   "execution_count": 206,
   "id": "f4ced374",
   "metadata": {
    "ExecuteTime": {
     "end_time": "2022-09-08T19:08:39.427181Z",
     "start_time": "2022-09-08T19:08:39.367265Z"
    },
    "scrolled": true
   },
   "outputs": [
    {
     "data": {
      "text/plain": [
       "customer_id       0\n",
       "gross_revenue    90\n",
       "dtype: int64"
      ]
     },
     "execution_count": 206,
     "metadata": {},
     "output_type": "execute_result"
    }
   ],
   "source": [
    "# Gross Revenue (Faturamento) quantity * price\n",
    "df2_purchase['gross_revenue'] = df2_purchase['quantity'] * df2_purchase['unit_price']\n",
    "\n",
    "# Monetary\n",
    "df_monetary = df2_purchase[['customer_id', 'gross_revenue']].groupby('customer_id').sum().reset_index()\n",
    "df_ref = pd.merge(df_ref,df_monetary, how='left',on='customer_id')\n",
    "df_ref.isna().sum()"
   ]
  },
  {
   "cell_type": "markdown",
   "id": "00b77dfd",
   "metadata": {},
   "source": [
    "### <font color = 'b'> 3.1.2. Recency Days </f>"
   ]
  },
  {
   "cell_type": "code",
   "execution_count": 207,
   "id": "c60e5c06",
   "metadata": {
    "ExecuteTime": {
     "end_time": "2022-09-08T19:08:39.475011Z",
     "start_time": "2022-09-08T19:08:39.429665Z"
    }
   },
   "outputs": [
    {
     "data": {
      "text/plain": [
       "customer_id       0\n",
       "gross_revenue    90\n",
       "recency_days     90\n",
       "dtype: int64"
      ]
     },
     "execution_count": 207,
     "metadata": {},
     "output_type": "execute_result"
    }
   ],
   "source": [
    "# Recency - Last day purchase\n",
    "df_recency = df2_purchase[['customer_id','invoice_date']].groupby('customer_id').max().reset_index()\n",
    "df_recency['recency_days'] = (df2_purchase['invoice_date'].max() - df_recency['invoice_date']).dt.days\n",
    "df_ref = pd.merge(df_ref, df_recency[['customer_id','recency_days']], on ='customer_id', how='left')\n",
    "df_ref.isna().sum()"
   ]
  },
  {
   "cell_type": "markdown",
   "id": "26539c2b",
   "metadata": {},
   "source": [
    "### <font color = 'b'> 3.1.3. Quantiy of Products Purchase </f>"
   ]
  },
  {
   "cell_type": "code",
   "execution_count": 208,
   "id": "990992fc",
   "metadata": {
    "ExecuteTime": {
     "end_time": "2022-09-08T19:08:54.913992Z",
     "start_time": "2022-09-08T19:08:54.826747Z"
    }
   },
   "outputs": [
    {
     "data": {
      "text/plain": [
       "customer_id       0\n",
       "gross_revenue    90\n",
       "recency_days     90\n",
       "invoice_no       90\n",
       "dtype: int64"
      ]
     },
     "execution_count": 208,
     "metadata": {},
     "output_type": "execute_result"
    }
   ],
   "source": [
    "# Frequency\n",
    "df_freq = df2_purchase[['customer_id','invoice_no']].drop_duplicates('invoice_no').groupby('customer_id').count().reset_index()\n",
    "df_ref = pd.merge(df_ref, df_freq, on='customer_id',how='left')\n",
    "df_ref.isna().sum()"
   ]
  },
  {
   "cell_type": "markdown",
   "id": "508d941f",
   "metadata": {},
   "source": [
    "### <font color = 'b'> 3.1.4. Averege Ticket Value </f>"
   ]
  },
  {
   "cell_type": "code",
   "execution_count": 209,
   "id": "f94518d0",
   "metadata": {
    "ExecuteTime": {
     "end_time": "2022-09-08T19:09:08.913892Z",
     "start_time": "2022-09-08T19:09:08.850439Z"
    },
    "scrolled": false
   },
   "outputs": [
    {
     "data": {
      "text/plain": [
       "customer_id       0\n",
       "gross_revenue    90\n",
       "recency_days     90\n",
       "invoice_no       90\n",
       "avg_ticket       90\n",
       "dtype: int64"
      ]
     },
     "execution_count": 209,
     "metadata": {},
     "output_type": "execute_result"
    }
   ],
   "source": [
    "# Avg Ticket\n",
    "df_avg_ticket = df2_purchase[['customer_id','gross_revenue']].groupby('customer_id').mean().reset_index().rename(columns={'gross_revenue':'avg_ticket'})\n",
    "df_ref = pd.merge(df_ref, df_avg_ticket,on='customer_id',how='left')\n",
    "df_ref.isna().sum()"
   ]
  },
  {
   "cell_type": "markdown",
   "id": "f5c5fd59",
   "metadata": {},
   "source": [
    "### <font color = 'b'> 3.1.5. Averege Recency Days </f>"
   ]
  },
  {
   "cell_type": "code",
   "execution_count": 211,
   "id": "445c6a64",
   "metadata": {
    "ExecuteTime": {
     "end_time": "2022-09-08T19:10:56.010526Z",
     "start_time": "2022-09-08T19:10:55.940841Z"
    }
   },
   "outputs": [
    {
     "data": {
      "text/html": [
       "<div>\n",
       "<style scoped>\n",
       "    .dataframe tbody tr th:only-of-type {\n",
       "        vertical-align: middle;\n",
       "    }\n",
       "\n",
       "    .dataframe tbody tr th {\n",
       "        vertical-align: top;\n",
       "    }\n",
       "\n",
       "    .dataframe thead th {\n",
       "        text-align: right;\n",
       "    }\n",
       "</style>\n",
       "<table border=\"1\" class=\"dataframe\">\n",
       "  <thead>\n",
       "    <tr style=\"text-align: right;\">\n",
       "      <th></th>\n",
       "      <th>invoice_no</th>\n",
       "      <th>invoice_date</th>\n",
       "    </tr>\n",
       "  </thead>\n",
       "  <tbody>\n",
       "    <tr>\n",
       "      <th>0</th>\n",
       "      <td>536365</td>\n",
       "      <td>2016-11-29</td>\n",
       "    </tr>\n",
       "    <tr>\n",
       "      <th>7</th>\n",
       "      <td>536366</td>\n",
       "      <td>2016-11-29</td>\n",
       "    </tr>\n",
       "    <tr>\n",
       "      <th>47</th>\n",
       "      <td>536372</td>\n",
       "      <td>2016-11-29</td>\n",
       "    </tr>\n",
       "    <tr>\n",
       "      <th>49</th>\n",
       "      <td>536373</td>\n",
       "      <td>2016-11-29</td>\n",
       "    </tr>\n",
       "    <tr>\n",
       "      <th>66</th>\n",
       "      <td>536375</td>\n",
       "      <td>2016-11-29</td>\n",
       "    </tr>\n",
       "    <tr>\n",
       "      <th>84</th>\n",
       "      <td>536377</td>\n",
       "      <td>2016-11-29</td>\n",
       "    </tr>\n",
       "    <tr>\n",
       "      <th>278</th>\n",
       "      <td>536396</td>\n",
       "      <td>2016-11-29</td>\n",
       "    </tr>\n",
       "    <tr>\n",
       "      <th>315</th>\n",
       "      <td>536399</td>\n",
       "      <td>2016-11-29</td>\n",
       "    </tr>\n",
       "    <tr>\n",
       "      <th>416</th>\n",
       "      <td>536406</td>\n",
       "      <td>2016-11-29</td>\n",
       "    </tr>\n",
       "    <tr>\n",
       "      <th>433</th>\n",
       "      <td>536407</td>\n",
       "      <td>2016-11-29</td>\n",
       "    </tr>\n",
       "    <tr>\n",
       "      <th>3118</th>\n",
       "      <td>536600</td>\n",
       "      <td>2016-11-30</td>\n",
       "    </tr>\n",
       "    <tr>\n",
       "      <th>3130</th>\n",
       "      <td>536601</td>\n",
       "      <td>2016-11-30</td>\n",
       "    </tr>\n",
       "    <tr>\n",
       "      <th>3132</th>\n",
       "      <td>536602</td>\n",
       "      <td>2016-11-30</td>\n",
       "    </tr>\n",
       "    <tr>\n",
       "      <th>3144</th>\n",
       "      <td>536603</td>\n",
       "      <td>2016-11-30</td>\n",
       "    </tr>\n",
       "    <tr>\n",
       "      <th>3192</th>\n",
       "      <td>536609</td>\n",
       "      <td>2016-11-30</td>\n",
       "    </tr>\n",
       "    <tr>\n",
       "      <th>3208</th>\n",
       "      <td>536610</td>\n",
       "      <td>2016-11-30</td>\n",
       "    </tr>\n",
       "    <tr>\n",
       "      <th>3224</th>\n",
       "      <td>536612</td>\n",
       "      <td>2016-11-30</td>\n",
       "    </tr>\n",
       "    <tr>\n",
       "      <th>3256</th>\n",
       "      <td>536614</td>\n",
       "      <td>2016-11-30</td>\n",
       "    </tr>\n",
       "    <tr>\n",
       "      <th>3425</th>\n",
       "      <td>536628</td>\n",
       "      <td>2016-11-30</td>\n",
       "    </tr>\n",
       "    <tr>\n",
       "      <th>3441</th>\n",
       "      <td>536629</td>\n",
       "      <td>2016-11-30</td>\n",
       "    </tr>\n",
       "    <tr>\n",
       "      <th>3443</th>\n",
       "      <td>536630</td>\n",
       "      <td>2016-11-30</td>\n",
       "    </tr>\n",
       "    <tr>\n",
       "      <th>3459</th>\n",
       "      <td>536631</td>\n",
       "      <td>2016-11-30</td>\n",
       "    </tr>\n",
       "    <tr>\n",
       "      <th>3804</th>\n",
       "      <td>536685</td>\n",
       "      <td>2016-11-30</td>\n",
       "    </tr>\n",
       "    <tr>\n",
       "      <th>3821</th>\n",
       "      <td>536688</td>\n",
       "      <td>2016-11-30</td>\n",
       "    </tr>\n",
       "    <tr>\n",
       "      <th>3823</th>\n",
       "      <td>536690</td>\n",
       "      <td>2016-11-30</td>\n",
       "    </tr>\n",
       "    <tr>\n",
       "      <th>3840</th>\n",
       "      <td>536693</td>\n",
       "      <td>2016-11-30</td>\n",
       "    </tr>\n",
       "    <tr>\n",
       "      <th>4161</th>\n",
       "      <td>536750</td>\n",
       "      <td>2016-11-30</td>\n",
       "    </tr>\n",
       "    <tr>\n",
       "      <th>4180</th>\n",
       "      <td>536751</td>\n",
       "      <td>2016-11-30</td>\n",
       "    </tr>\n",
       "    <tr>\n",
       "      <th>4182</th>\n",
       "      <td>536752</td>\n",
       "      <td>2016-11-30</td>\n",
       "    </tr>\n",
       "    <tr>\n",
       "      <th>4201</th>\n",
       "      <td>536753</td>\n",
       "      <td>2016-11-30</td>\n",
       "    </tr>\n",
       "    <tr>\n",
       "      <th>4510</th>\n",
       "      <td>536787</td>\n",
       "      <td>2016-11-30</td>\n",
       "    </tr>\n",
       "    <tr>\n",
       "      <th>4524</th>\n",
       "      <td>536789</td>\n",
       "      <td>2016-11-30</td>\n",
       "    </tr>\n",
       "    <tr>\n",
       "      <th>4526</th>\n",
       "      <td>536790</td>\n",
       "      <td>2016-11-30</td>\n",
       "    </tr>\n",
       "    <tr>\n",
       "      <th>4543</th>\n",
       "      <td>536791</td>\n",
       "      <td>2016-11-30</td>\n",
       "    </tr>\n",
       "    <tr>\n",
       "      <th>86888</th>\n",
       "      <td>C543611</td>\n",
       "      <td>2017-02-08</td>\n",
       "    </tr>\n",
       "  </tbody>\n",
       "</table>\n",
       "</div>"
      ],
      "text/plain": [
       "      invoice_no invoice_date\n",
       "0         536365   2016-11-29\n",
       "7         536366   2016-11-29\n",
       "47        536372   2016-11-29\n",
       "49        536373   2016-11-29\n",
       "66        536375   2016-11-29\n",
       "84        536377   2016-11-29\n",
       "278       536396   2016-11-29\n",
       "315       536399   2016-11-29\n",
       "416       536406   2016-11-29\n",
       "433       536407   2016-11-29\n",
       "3118      536600   2016-11-30\n",
       "3130      536601   2016-11-30\n",
       "3132      536602   2016-11-30\n",
       "3144      536603   2016-11-30\n",
       "3192      536609   2016-11-30\n",
       "3208      536610   2016-11-30\n",
       "3224      536612   2016-11-30\n",
       "3256      536614   2016-11-30\n",
       "3425      536628   2016-11-30\n",
       "3441      536629   2016-11-30\n",
       "3443      536630   2016-11-30\n",
       "3459      536631   2016-11-30\n",
       "3804      536685   2016-11-30\n",
       "3821      536688   2016-11-30\n",
       "3823      536690   2016-11-30\n",
       "3840      536693   2016-11-30\n",
       "4161      536750   2016-11-30\n",
       "4180      536751   2016-11-30\n",
       "4182      536752   2016-11-30\n",
       "4201      536753   2016-11-30\n",
       "4510      536787   2016-11-30\n",
       "4524      536789   2016-11-30\n",
       "4526      536790   2016-11-30\n",
       "4543      536791   2016-11-30\n",
       "86888    C543611   2017-02-08"
      ]
     },
     "execution_count": 211,
     "metadata": {},
     "output_type": "execute_result"
    }
   ],
   "source": [
    "df2.loc[df2['customer_id'] == 17850, ['invoice_no','invoice_date']].drop_duplicates()"
   ]
  },
  {
   "cell_type": "code",
   "execution_count": 240,
   "id": "be277d86",
   "metadata": {
    "ExecuteTime": {
     "end_time": "2022-09-09T00:04:15.863078Z",
     "start_time": "2022-09-09T00:04:14.800652Z"
    }
   },
   "outputs": [],
   "source": [
    "df_aux = df2[['customer_id','invoice_date']].drop_duplicates().sort_values(['customer_id','invoice_date'],ascending=[True,False])\n",
    "df_aux['next_customer_id'] = df_aux['customer_id'].shift()\n",
    "df_aux['next_date'] = df_aux['invoice_date'].shift()\n",
    "df_aux['avg_recency_days'] = df_aux.apply(lambda x: (x['next_date'] - x['invoice_date']).days if x['customer_id'] == x['next_customer_id'] else np.nan, axis=1)\n",
    "\n",
    "df_aux = df_aux.drop(['invoice_date','next_customer_id','next_date'], axis=1).dropna()\n",
    "\n",
    "# average recency days\n",
    "df_avg_recency_days = df_aux.groupby('customer_id').mean().reset_index()\n",
    "\n",
    "# merge\n",
    "df_ref = pd.merge(df_ref, df_avg_recency_days, on='customer_id',how='left')\n",
    "df_ref.isna().sum()"
   ]
  },
  {
   "cell_type": "markdown",
   "id": "d57c18bf",
   "metadata": {},
   "source": [
    "### <font color = 'b'> 3.1.6. Frequency Purchase </f>"
   ]
  },
  {
   "cell_type": "code",
   "execution_count": 246,
   "id": "b97e6bef",
   "metadata": {
    "ExecuteTime": {
     "end_time": "2022-09-09T00:13:01.384479Z",
     "start_time": "2022-09-09T00:13:01.315452Z"
    }
   },
   "outputs": [
    {
     "data": {
      "text/html": [
       "<div>\n",
       "<style scoped>\n",
       "    .dataframe tbody tr th:only-of-type {\n",
       "        vertical-align: middle;\n",
       "    }\n",
       "\n",
       "    .dataframe tbody tr th {\n",
       "        vertical-align: top;\n",
       "    }\n",
       "\n",
       "    .dataframe thead th {\n",
       "        text-align: right;\n",
       "    }\n",
       "</style>\n",
       "<table border=\"1\" class=\"dataframe\">\n",
       "  <thead>\n",
       "    <tr style=\"text-align: right;\">\n",
       "      <th></th>\n",
       "      <th>invoice_date</th>\n",
       "    </tr>\n",
       "    <tr>\n",
       "      <th>customer_id</th>\n",
       "      <th></th>\n",
       "    </tr>\n",
       "  </thead>\n",
       "  <tbody>\n",
       "    <tr>\n",
       "      <th>12346</th>\n",
       "      <td>2017-01-16</td>\n",
       "    </tr>\n",
       "    <tr>\n",
       "      <th>12347</th>\n",
       "      <td>2017-12-05</td>\n",
       "    </tr>\n",
       "    <tr>\n",
       "      <th>12348</th>\n",
       "      <td>2017-09-23</td>\n",
       "    </tr>\n",
       "    <tr>\n",
       "      <th>12349</th>\n",
       "      <td>2017-11-19</td>\n",
       "    </tr>\n",
       "    <tr>\n",
       "      <th>12350</th>\n",
       "      <td>2017-01-31</td>\n",
       "    </tr>\n",
       "    <tr>\n",
       "      <th>...</th>\n",
       "      <td>...</td>\n",
       "    </tr>\n",
       "    <tr>\n",
       "      <th>22705</th>\n",
       "      <td>2017-12-06</td>\n",
       "    </tr>\n",
       "    <tr>\n",
       "      <th>22706</th>\n",
       "      <td>2017-12-06</td>\n",
       "    </tr>\n",
       "    <tr>\n",
       "      <th>22707</th>\n",
       "      <td>2017-12-07</td>\n",
       "    </tr>\n",
       "    <tr>\n",
       "      <th>22708</th>\n",
       "      <td>2017-12-07</td>\n",
       "    </tr>\n",
       "    <tr>\n",
       "      <th>22709</th>\n",
       "      <td>2017-12-07</td>\n",
       "    </tr>\n",
       "  </tbody>\n",
       "</table>\n",
       "<p>5787 rows × 1 columns</p>\n",
       "</div>"
      ],
      "text/plain": [
       "            invoice_date\n",
       "customer_id             \n",
       "12346         2017-01-16\n",
       "12347         2017-12-05\n",
       "12348         2017-09-23\n",
       "12349         2017-11-19\n",
       "12350         2017-01-31\n",
       "...                  ...\n",
       "22705         2017-12-06\n",
       "22706         2017-12-06\n",
       "22707         2017-12-07\n",
       "22708         2017-12-07\n",
       "22709         2017-12-07\n",
       "\n",
       "[5787 rows x 1 columns]"
      ]
     },
     "execution_count": 246,
     "metadata": {},
     "output_type": "execute_result"
    }
   ],
   "source": [
    "df2[['customer_id','invoice_date']].drop_duplicates().groupby('customer_id').max()"
   ]
  },
  {
   "cell_type": "code",
   "execution_count": 259,
   "id": "a817111b",
   "metadata": {
    "ExecuteTime": {
     "end_time": "2022-09-09T00:24:10.214318Z",
     "start_time": "2022-09-09T00:24:08.170500Z"
    }
   },
   "outputs": [],
   "source": [
    "df_aux = (df2[['customer_id','invoice_no','invoice_date']].drop_duplicates()\n",
    "                                .groupby('customer_id')\n",
    "                                .agg(max_ = ('invoice_date','max'),\n",
    "                                     min_ = ('invoice_date', 'min'),\n",
    "                                     days_ = ('invoice_date', lambda x:(x.max() - x.min()).days + 1),\n",
    "                                     buy_ = ('invoice_no', 'count'))).reset_index()\n",
    "\n",
    "df_aux['frequency'] = df_aux[['buy_', 'days_']].apply(lambda x: (x['buy_']/x['days_']) if x['days_'] != 0 else 0, axis=1)"
   ]
  },
  {
   "cell_type": "code",
   "execution_count": 260,
   "id": "1b254c0e",
   "metadata": {
    "ExecuteTime": {
     "end_time": "2022-09-09T00:24:12.449190Z",
     "start_time": "2022-09-09T00:24:12.421283Z"
    }
   },
   "outputs": [
    {
     "data": {
      "text/html": [
       "<div>\n",
       "<style scoped>\n",
       "    .dataframe tbody tr th:only-of-type {\n",
       "        vertical-align: middle;\n",
       "    }\n",
       "\n",
       "    .dataframe tbody tr th {\n",
       "        vertical-align: top;\n",
       "    }\n",
       "\n",
       "    .dataframe thead th {\n",
       "        text-align: right;\n",
       "    }\n",
       "</style>\n",
       "<table border=\"1\" class=\"dataframe\">\n",
       "  <thead>\n",
       "    <tr style=\"text-align: right;\">\n",
       "      <th></th>\n",
       "      <th>customer_id</th>\n",
       "      <th>max_</th>\n",
       "      <th>min_</th>\n",
       "      <th>days_</th>\n",
       "      <th>buy_</th>\n",
       "      <th>frequency</th>\n",
       "    </tr>\n",
       "  </thead>\n",
       "  <tbody>\n",
       "    <tr>\n",
       "      <th>0</th>\n",
       "      <td>12346</td>\n",
       "      <td>2017-01-16</td>\n",
       "      <td>2017-01-16</td>\n",
       "      <td>1</td>\n",
       "      <td>2</td>\n",
       "      <td>2.000000</td>\n",
       "    </tr>\n",
       "    <tr>\n",
       "      <th>1</th>\n",
       "      <td>12347</td>\n",
       "      <td>2017-12-05</td>\n",
       "      <td>2016-12-05</td>\n",
       "      <td>366</td>\n",
       "      <td>7</td>\n",
       "      <td>0.019126</td>\n",
       "    </tr>\n",
       "    <tr>\n",
       "      <th>2</th>\n",
       "      <td>12348</td>\n",
       "      <td>2017-09-23</td>\n",
       "      <td>2016-12-14</td>\n",
       "      <td>284</td>\n",
       "      <td>4</td>\n",
       "      <td>0.014085</td>\n",
       "    </tr>\n",
       "    <tr>\n",
       "      <th>3</th>\n",
       "      <td>12349</td>\n",
       "      <td>2017-11-19</td>\n",
       "      <td>2017-11-19</td>\n",
       "      <td>1</td>\n",
       "      <td>1</td>\n",
       "      <td>1.000000</td>\n",
       "    </tr>\n",
       "    <tr>\n",
       "      <th>4</th>\n",
       "      <td>12350</td>\n",
       "      <td>2017-01-31</td>\n",
       "      <td>2017-01-31</td>\n",
       "      <td>1</td>\n",
       "      <td>1</td>\n",
       "      <td>1.000000</td>\n",
       "    </tr>\n",
       "    <tr>\n",
       "      <th>...</th>\n",
       "      <td>...</td>\n",
       "      <td>...</td>\n",
       "      <td>...</td>\n",
       "      <td>...</td>\n",
       "      <td>...</td>\n",
       "      <td>...</td>\n",
       "    </tr>\n",
       "    <tr>\n",
       "      <th>5782</th>\n",
       "      <td>22705</td>\n",
       "      <td>2017-12-06</td>\n",
       "      <td>2017-12-06</td>\n",
       "      <td>1</td>\n",
       "      <td>1</td>\n",
       "      <td>1.000000</td>\n",
       "    </tr>\n",
       "    <tr>\n",
       "      <th>5783</th>\n",
       "      <td>22706</td>\n",
       "      <td>2017-12-06</td>\n",
       "      <td>2017-12-06</td>\n",
       "      <td>1</td>\n",
       "      <td>1</td>\n",
       "      <td>1.000000</td>\n",
       "    </tr>\n",
       "    <tr>\n",
       "      <th>5784</th>\n",
       "      <td>22707</td>\n",
       "      <td>2017-12-07</td>\n",
       "      <td>2017-12-07</td>\n",
       "      <td>1</td>\n",
       "      <td>1</td>\n",
       "      <td>1.000000</td>\n",
       "    </tr>\n",
       "    <tr>\n",
       "      <th>5785</th>\n",
       "      <td>22708</td>\n",
       "      <td>2017-12-07</td>\n",
       "      <td>2017-12-07</td>\n",
       "      <td>1</td>\n",
       "      <td>1</td>\n",
       "      <td>1.000000</td>\n",
       "    </tr>\n",
       "    <tr>\n",
       "      <th>5786</th>\n",
       "      <td>22709</td>\n",
       "      <td>2017-12-07</td>\n",
       "      <td>2017-12-07</td>\n",
       "      <td>1</td>\n",
       "      <td>1</td>\n",
       "      <td>1.000000</td>\n",
       "    </tr>\n",
       "  </tbody>\n",
       "</table>\n",
       "<p>5787 rows × 6 columns</p>\n",
       "</div>"
      ],
      "text/plain": [
       "      customer_id       max_       min_  days_  buy_  frequency\n",
       "0           12346 2017-01-16 2017-01-16      1     2   2.000000\n",
       "1           12347 2017-12-05 2016-12-05    366     7   0.019126\n",
       "2           12348 2017-09-23 2016-12-14    284     4   0.014085\n",
       "3           12349 2017-11-19 2017-11-19      1     1   1.000000\n",
       "4           12350 2017-01-31 2017-01-31      1     1   1.000000\n",
       "...           ...        ...        ...    ...   ...        ...\n",
       "5782        22705 2017-12-06 2017-12-06      1     1   1.000000\n",
       "5783        22706 2017-12-06 2017-12-06      1     1   1.000000\n",
       "5784        22707 2017-12-07 2017-12-07      1     1   1.000000\n",
       "5785        22708 2017-12-07 2017-12-07      1     1   1.000000\n",
       "5786        22709 2017-12-07 2017-12-07      1     1   1.000000\n",
       "\n",
       "[5787 rows x 6 columns]"
      ]
     },
     "execution_count": 260,
     "metadata": {},
     "output_type": "execute_result"
    }
   ],
   "source": [
    "df_aux"
   ]
  },
  {
   "cell_type": "code",
   "execution_count": 46,
   "id": "e8c550ce",
   "metadata": {
    "ExecuteTime": {
     "end_time": "2022-09-07T17:26:58.005518Z",
     "start_time": "2022-09-07T17:26:57.988966Z"
    }
   },
   "outputs": [
    {
     "data": {
      "text/plain": [
       "customer_id      0\n",
       "gross_revenue    0\n",
       "recency_days     0\n",
       "invoice_no       0\n",
       "avg_ticket       0\n",
       "dtype: int64"
      ]
     },
     "execution_count": 46,
     "metadata": {},
     "output_type": "execute_result"
    }
   ],
   "source": [
    "df3 = df_ref.dropna()\n",
    "df3.isna().sum()"
   ]
  },
  {
   "cell_type": "markdown",
   "id": "10613f28",
   "metadata": {
    "heading_collapsed": true
   },
   "source": [
    "# <font color = 'green'> 4.0. Exploratory Data Analysis </f>"
   ]
  },
  {
   "cell_type": "code",
   "execution_count": 47,
   "id": "7626d089",
   "metadata": {
    "ExecuteTime": {
     "end_time": "2022-09-07T17:26:58.012499Z",
     "start_time": "2022-09-07T17:26:58.007738Z"
    },
    "hidden": true
   },
   "outputs": [],
   "source": [
    "df4 = df3.copy()"
   ]
  },
  {
   "cell_type": "markdown",
   "id": "40f3c1be",
   "metadata": {
    "heading_collapsed": true
   },
   "source": [
    "# <font color = 'green'> 5.0. Data Preparation </f>"
   ]
  },
  {
   "cell_type": "code",
   "execution_count": 48,
   "id": "0ec3fb99",
   "metadata": {
    "ExecuteTime": {
     "end_time": "2022-09-07T17:26:58.018450Z",
     "start_time": "2022-09-07T17:26:58.014459Z"
    },
    "hidden": true
   },
   "outputs": [],
   "source": [
    "df5 = df4.copy()"
   ]
  },
  {
   "cell_type": "code",
   "execution_count": 49,
   "id": "d4fed304",
   "metadata": {
    "ExecuteTime": {
     "end_time": "2022-09-07T17:26:58.042825Z",
     "start_time": "2022-09-07T17:26:58.020598Z"
    },
    "hidden": true
   },
   "outputs": [],
   "source": [
    "# Standard Scaler\n",
    "ss = pp.StandardScaler()\n",
    "\n",
    "df5['gross_revenue'] = ss.fit_transform( df5[['gross_revenue']] )\n",
    "df5['recency_days'] = ss.fit_transform( df5[['recency_days']] )\n",
    "df5['invoice_no'] = ss.fit_transform( df5[['invoice_no']] )\n",
    "df5['avg_ticket'] = ss.fit_transform( df5[['avg_ticket']] )"
   ]
  },
  {
   "cell_type": "code",
   "execution_count": null,
   "id": "f5a9ac0c",
   "metadata": {
    "hidden": true
   },
   "outputs": [],
   "source": []
  },
  {
   "cell_type": "markdown",
   "id": "ba6e3b21",
   "metadata": {},
   "source": [
    "# <font color = 'green'> 6.0. Feature Selection </f>"
   ]
  },
  {
   "cell_type": "code",
   "execution_count": 50,
   "id": "1b2b70b6",
   "metadata": {
    "ExecuteTime": {
     "end_time": "2022-09-07T17:26:58.049920Z",
     "start_time": "2022-09-07T17:26:58.045928Z"
    }
   },
   "outputs": [],
   "source": [
    "df6 = df5.copy()"
   ]
  },
  {
   "cell_type": "markdown",
   "id": "5b3fee84",
   "metadata": {},
   "source": [
    "# <font color = 'green'> 7.0. Hyperparameter Fine Tuning </f>"
   ]
  },
  {
   "cell_type": "code",
   "execution_count": 51,
   "id": "89276945",
   "metadata": {
    "ExecuteTime": {
     "end_time": "2022-09-07T17:26:58.058816Z",
     "start_time": "2022-09-07T17:26:58.052910Z"
    }
   },
   "outputs": [],
   "source": [
    "X = df6.drop(columns=['customer_id'])"
   ]
  },
  {
   "cell_type": "code",
   "execution_count": 52,
   "id": "cdc7e5d8",
   "metadata": {
    "ExecuteTime": {
     "end_time": "2022-09-07T17:26:58.067307Z",
     "start_time": "2022-09-07T17:26:58.061633Z"
    }
   },
   "outputs": [],
   "source": [
    "clusters = [2,3,4,5,6,7]"
   ]
  },
  {
   "cell_type": "markdown",
   "id": "e191ac94",
   "metadata": {
    "cell_style": "center"
   },
   "source": [
    "## <font color = 'b'> 7.1. Within-Cluster Sum of Square (WSS) </f>"
   ]
  },
  {
   "cell_type": "code",
   "execution_count": 53,
   "id": "f3560be4",
   "metadata": {
    "ExecuteTime": {
     "end_time": "2022-09-07T17:26:59.143108Z",
     "start_time": "2022-09-07T17:26:58.069536Z"
    },
    "cell_style": "center",
    "scrolled": true
   },
   "outputs": [
    {
     "data": {
      "image/png": "[encoded data removed]",
      "text/plain": [
       "<Figure size 432x288 with 1 Axes>"
      ]
     },
     "metadata": {
      "needs_background": "light"
     },
     "output_type": "display_data"
    },
    {
     "data": {
      "text/plain": [
       "<AxesSubplot:title={'center':'Distortion Score Elbow for KMeans Clustering'}, xlabel='k', ylabel='distortion score'>"
      ]
     },
     "execution_count": 53,
     "metadata": {},
     "output_type": "execute_result"
    }
   ],
   "source": [
    "kmeans = KElbowVisualizer(c.KMeans(), k = clusters, timings = False)\n",
    "kmeans.fit( X )\n",
    "kmeans.show()"
   ]
  },
  {
   "cell_type": "markdown",
   "id": "8776afe0",
   "metadata": {
    "cell_style": "center"
   },
   "source": [
    "## <font color = 'b'> 7.2. Silhouette Score (WSS) </f>"
   ]
  },
  {
   "cell_type": "code",
   "execution_count": 54,
   "id": "f5960c22",
   "metadata": {
    "ExecuteTime": {
     "end_time": "2022-09-07T17:27:02.005039Z",
     "start_time": "2022-09-07T17:26:59.146068Z"
    },
    "cell_style": "center"
   },
   "outputs": [
    {
     "data": {
      "image/png": "[encoded data removed]",
      "text/plain": [
       "<Figure size 432x288 with 1 Axes>"
      ]
     },
     "metadata": {
      "needs_background": "light"
     },
     "output_type": "display_data"
    }
   ],
   "source": [
    "kmeans = KElbowVisualizer(c.KMeans(), k = clusters,metric = 'silhouette', timings = False)\n",
    "kmeans.fit( X )\n",
    "kmeans.show();"
   ]
  },
  {
   "cell_type": "markdown",
   "id": "ea6a1dee",
   "metadata": {},
   "source": [
    "### <font color = 'b'> 7.2.1. Silhouette Analysis </f>"
   ]
  },
  {
   "cell_type": "code",
   "execution_count": 55,
   "id": "f923d645",
   "metadata": {
    "ExecuteTime": {
     "end_time": "2022-09-07T17:27:02.016009Z",
     "start_time": "2022-09-07T17:27:02.008031Z"
    }
   },
   "outputs": [
    {
     "data": {
      "text/plain": [
       "gross_revenue    float64\n",
       "recency_days     float64\n",
       "invoice_no       float64\n",
       "avg_ticket       float64\n",
       "dtype: object"
      ]
     },
     "execution_count": 55,
     "metadata": {},
     "output_type": "execute_result"
    }
   ],
   "source": [
    "X.dtypes"
   ]
  },
  {
   "cell_type": "code",
   "execution_count": 56,
   "id": "30feca8d",
   "metadata": {
    "ExecuteTime": {
     "end_time": "2022-09-07T17:27:09.233526Z",
     "start_time": "2022-09-07T17:27:02.018005Z"
    }
   },
   "outputs": [
    {
     "data": {
      "image/png": "[encoded data removed]",
      "text/plain": [
       "<Figure size 1800x1296 with 6 Axes>"
      ]
     },
     "metadata": {
      "needs_background": "light"
     },
     "output_type": "display_data"
    }
   ],
   "source": [
    "fig, ax = plt.subplots(3,2,figsize=(25,18))\n",
    "for k in clusters:\n",
    "    kn = c.KMeans(n_clusters = k, init = 'random', n_init=10, max_iter=100, random_state=42)\n",
    "    \n",
    "    q, mod = divmod(k,2)\n",
    "    visualizer = SilhouetteVisualizer(kn, color='yellowbrick',ax=ax[q-1,mod])\n",
    "    visualizer.fit(X)\n",
    "    visualizer.finalize()\n",
    "    plt.tight_layout()"
   ]
  },
  {
   "cell_type": "code",
   "execution_count": null,
   "id": "f6c9865c",
   "metadata": {},
   "outputs": [],
   "source": []
  },
  {
   "cell_type": "code",
   "execution_count": null,
   "id": "b7939c35",
   "metadata": {},
   "outputs": [],
   "source": []
  },
  {
   "cell_type": "markdown",
   "id": "44c404ff",
   "metadata": {},
   "source": [
    "# <font color = 'green'> 8.0. Training Model </f>"
   ]
  },
  {
   "cell_type": "markdown",
   "id": "5a4be9aa",
   "metadata": {},
   "source": [
    "## <font color = 'b'> 8.1. K-Means </f>"
   ]
  },
  {
   "cell_type": "code",
   "execution_count": 57,
   "id": "adbc60ba",
   "metadata": {
    "ExecuteTime": {
     "end_time": "2022-09-07T17:27:09.288324Z",
     "start_time": "2022-09-07T17:27:09.235531Z"
    }
   },
   "outputs": [],
   "source": [
    "# model definition\n",
    "k = 3\n",
    "\n",
    "# model training\n",
    "kmeans = c.KMeans(init='random',n_clusters=k, n_init=10, max_iter=300, random_state=42)\n",
    "kmeans.fit( X )\n",
    "\n",
    "# clustering\n",
    "labels = kmeans.labels_"
   ]
  },
  {
   "cell_type": "markdown",
   "id": "6422ec74",
   "metadata": {},
   "source": [
    "## <font color = 'b'> 8.2. Cluster Validation </f>"
   ]
  },
  {
   "cell_type": "code",
   "execution_count": 58,
   "id": "a196281f",
   "metadata": {
    "ExecuteTime": {
     "end_time": "2022-09-07T17:27:09.688512Z",
     "start_time": "2022-09-07T17:27:09.291317Z"
    }
   },
   "outputs": [
    {
     "name": "stdout",
     "output_type": "stream",
     "text": [
      "WSS value: 9306.454558611318\n",
      "SS: 0.5832111022187288\n"
     ]
    }
   ],
   "source": [
    "## WSS (Within Clusters Sum of Square)\n",
    "print('WSS value: {}'.format(kmeans.inertia_))\n",
    "\n",
    "## SS (Silhouette Score)\n",
    "print('SS: {}'.format(m.silhouette_score(X,labels, metric='euclidean')))"
   ]
  },
  {
   "cell_type": "markdown",
   "id": "6039bb09",
   "metadata": {},
   "source": [
    "# <font color = 'green'> 9.0. Cluster Analysis </f>"
   ]
  },
  {
   "cell_type": "code",
   "execution_count": 59,
   "id": "3fdb3ead",
   "metadata": {
    "ExecuteTime": {
     "end_time": "2022-09-07T17:27:09.700055Z",
     "start_time": "2022-09-07T17:27:09.690502Z"
    }
   },
   "outputs": [
    {
     "data": {
      "text/html": [
       "<div>\n",
       "<style scoped>\n",
       "    .dataframe tbody tr th:only-of-type {\n",
       "        vertical-align: middle;\n",
       "    }\n",
       "\n",
       "    .dataframe tbody tr th {\n",
       "        vertical-align: top;\n",
       "    }\n",
       "\n",
       "    .dataframe thead th {\n",
       "        text-align: right;\n",
       "    }\n",
       "</style>\n",
       "<table border=\"1\" class=\"dataframe\">\n",
       "  <thead>\n",
       "    <tr style=\"text-align: right;\">\n",
       "      <th></th>\n",
       "      <th>customer_id</th>\n",
       "      <th>gross_revenue</th>\n",
       "      <th>recency_days</th>\n",
       "      <th>invoice_no</th>\n",
       "      <th>avg_ticket</th>\n",
       "      <th>cluster</th>\n",
       "    </tr>\n",
       "  </thead>\n",
       "  <tbody>\n",
       "    <tr>\n",
       "      <th>0</th>\n",
       "      <td>17850</td>\n",
       "      <td>0.370775</td>\n",
       "      <td>2.798137</td>\n",
       "      <td>3.858949</td>\n",
       "      <td>-0.033856</td>\n",
       "      <td>1</td>\n",
       "    </tr>\n",
       "    <tr>\n",
       "      <th>1</th>\n",
       "      <td>13047</td>\n",
       "      <td>0.131350</td>\n",
       "      <td>-0.609622</td>\n",
       "      <td>0.743157</td>\n",
       "      <td>-0.033399</td>\n",
       "      <td>2</td>\n",
       "    </tr>\n",
       "    <tr>\n",
       "      <th>2</th>\n",
       "      <td>12583</td>\n",
       "      <td>0.580906</td>\n",
       "      <td>-0.899432</td>\n",
       "      <td>1.392280</td>\n",
       "      <td>-0.026143</td>\n",
       "      <td>2</td>\n",
       "    </tr>\n",
       "    <tr>\n",
       "      <th>3</th>\n",
       "      <td>13748</td>\n",
       "      <td>-0.123151</td>\n",
       "      <td>0.029957</td>\n",
       "      <td>0.094034</td>\n",
       "      <td>-0.023156</td>\n",
       "      <td>2</td>\n",
       "    </tr>\n",
       "    <tr>\n",
       "      <th>4</th>\n",
       "      <td>15100</td>\n",
       "      <td>-0.131183</td>\n",
       "      <td>2.408394</td>\n",
       "      <td>-0.165616</td>\n",
       "      <td>0.152610</td>\n",
       "      <td>1</td>\n",
       "    </tr>\n",
       "  </tbody>\n",
       "</table>\n",
       "</div>"
      ],
      "text/plain": [
       "   customer_id  gross_revenue  recency_days  invoice_no  avg_ticket  cluster\n",
       "0        17850       0.370775      2.798137    3.858949   -0.033856        1\n",
       "1        13047       0.131350     -0.609622    0.743157   -0.033399        2\n",
       "2        12583       0.580906     -0.899432    1.392280   -0.026143        2\n",
       "3        13748      -0.123151      0.029957    0.094034   -0.023156        2\n",
       "4        15100      -0.131183      2.408394   -0.165616    0.152610        1"
      ]
     },
     "execution_count": 59,
     "metadata": {},
     "output_type": "execute_result"
    }
   ],
   "source": [
    "df9 = df6.copy()\n",
    "df9['cluster'] = labels\n",
    "df9.head()"
   ]
  },
  {
   "cell_type": "markdown",
   "id": "87e589dc",
   "metadata": {},
   "source": [
    "## <font color = 'b'> 9.1. Visualization Inspection </f>"
   ]
  },
  {
   "cell_type": "code",
   "execution_count": 60,
   "id": "eb371338",
   "metadata": {
    "ExecuteTime": {
     "end_time": "2022-09-07T17:27:11.128305Z",
     "start_time": "2022-09-07T17:27:09.704043Z"
    }
   },
   "outputs": [
    {
     "name": "stderr",
     "output_type": "stream",
     "text": [
      "C:\\Users\\Notebook\\anaconda3\\envs\\insiders-clustering-env\\lib\\site-packages\\sklearn\\base.py:450: UserWarning: X does not have valid feature names, but KMeans was fitted with feature names\n",
      "  warnings.warn(\n"
     ]
    },
    {
     "data": {
      "image/png": "[encoded data removed]",
      "text/plain": [
       "<Figure size 1440x720 with 1 Axes>"
      ]
     },
     "metadata": {
      "needs_background": "light"
     },
     "output_type": "display_data"
    }
   ],
   "source": [
    "# fig = px.scatter_3d(df9,x='avg_ticket',y='invoice_no',z='gross_revenue',color='cluster')\n",
    "# fig.show()\n",
    "\n",
    "fig = plt.figure(figsize=(20,10))\n",
    "visualizer = SilhouetteVisualizer(kmeans,color='yellowbrick')\n",
    "visualizer.fit(X)\n",
    "visualizer.finalize()"
   ]
  },
  {
   "cell_type": "markdown",
   "id": "4d094f0b",
   "metadata": {},
   "source": [
    "### <font color = 'b'> 9.1.1 2D Plot </f>"
   ]
  },
  {
   "cell_type": "code",
   "execution_count": 61,
   "id": "b77eeb7c",
   "metadata": {
    "ExecuteTime": {
     "end_time": "2022-09-07T17:27:11.156785Z",
     "start_time": "2022-09-07T17:27:11.133442Z"
    }
   },
   "outputs": [
    {
     "data": {
      "text/html": [
       "<div>\n",
       "<style scoped>\n",
       "    .dataframe tbody tr th:only-of-type {\n",
       "        vertical-align: middle;\n",
       "    }\n",
       "\n",
       "    .dataframe tbody tr th {\n",
       "        vertical-align: top;\n",
       "    }\n",
       "\n",
       "    .dataframe thead th {\n",
       "        text-align: right;\n",
       "    }\n",
       "</style>\n",
       "<table border=\"1\" class=\"dataframe\">\n",
       "  <thead>\n",
       "    <tr style=\"text-align: right;\">\n",
       "      <th></th>\n",
       "      <th>customer_id</th>\n",
       "      <th>gross_revenue</th>\n",
       "      <th>recency_days</th>\n",
       "      <th>invoice_no</th>\n",
       "      <th>avg_ticket</th>\n",
       "      <th>cluster</th>\n",
       "    </tr>\n",
       "  </thead>\n",
       "  <tbody>\n",
       "    <tr>\n",
       "      <th>0</th>\n",
       "      <td>17850</td>\n",
       "      <td>0.370775</td>\n",
       "      <td>2.798137</td>\n",
       "      <td>3.858949</td>\n",
       "      <td>-0.033856</td>\n",
       "      <td>1</td>\n",
       "    </tr>\n",
       "    <tr>\n",
       "      <th>1</th>\n",
       "      <td>13047</td>\n",
       "      <td>0.131350</td>\n",
       "      <td>-0.609622</td>\n",
       "      <td>0.743157</td>\n",
       "      <td>-0.033399</td>\n",
       "      <td>2</td>\n",
       "    </tr>\n",
       "    <tr>\n",
       "      <th>2</th>\n",
       "      <td>12583</td>\n",
       "      <td>0.580906</td>\n",
       "      <td>-0.899432</td>\n",
       "      <td>1.392280</td>\n",
       "      <td>-0.026143</td>\n",
       "      <td>2</td>\n",
       "    </tr>\n",
       "    <tr>\n",
       "      <th>3</th>\n",
       "      <td>13748</td>\n",
       "      <td>-0.123151</td>\n",
       "      <td>0.029957</td>\n",
       "      <td>0.094034</td>\n",
       "      <td>-0.023156</td>\n",
       "      <td>2</td>\n",
       "    </tr>\n",
       "    <tr>\n",
       "      <th>4</th>\n",
       "      <td>15100</td>\n",
       "      <td>-0.131183</td>\n",
       "      <td>2.408394</td>\n",
       "      <td>-0.165616</td>\n",
       "      <td>0.152610</td>\n",
       "      <td>1</td>\n",
       "    </tr>\n",
       "  </tbody>\n",
       "</table>\n",
       "</div>"
      ],
      "text/plain": [
       "   customer_id  gross_revenue  recency_days  invoice_no  avg_ticket  cluster\n",
       "0        17850       0.370775      2.798137    3.858949   -0.033856        1\n",
       "1        13047       0.131350     -0.609622    0.743157   -0.033399        2\n",
       "2        12583       0.580906     -0.899432    1.392280   -0.026143        2\n",
       "3        13748      -0.123151      0.029957    0.094034   -0.023156        2\n",
       "4        15100      -0.131183      2.408394   -0.165616    0.152610        1"
      ]
     },
     "execution_count": 61,
     "metadata": {},
     "output_type": "execute_result"
    }
   ],
   "source": [
    "df9.head()"
   ]
  },
  {
   "cell_type": "code",
   "execution_count": 62,
   "id": "ab580d33",
   "metadata": {
    "ExecuteTime": {
     "end_time": "2022-09-07T17:27:11.172172Z",
     "start_time": "2022-09-07T17:27:11.161771Z"
    }
   },
   "outputs": [],
   "source": [
    "df_viz = df9.drop(columns='customer_id',axis=1)\n",
    "# sns.pairplot(df_viz, hue='cluster', palette='viridis');"
   ]
  },
  {
   "cell_type": "markdown",
   "id": "9b9b44da",
   "metadata": {},
   "source": [
    "### <font color = 'b'> 9.1.2 UMAP </f>"
   ]
  },
  {
   "cell_type": "code",
   "execution_count": 63,
   "id": "b88288f4",
   "metadata": {
    "ExecuteTime": {
     "end_time": "2022-09-07T17:27:43.790196Z",
     "start_time": "2022-09-07T17:27:11.176320Z"
    }
   },
   "outputs": [
    {
     "data": {
      "text/plain": [
       "<AxesSubplot:xlabel='embedding_x', ylabel='embedding_y'>"
      ]
     },
     "execution_count": 63,
     "metadata": {},
     "output_type": "execute_result"
    },
    {
     "data": {
      "image/png": "[encoded data removed]",
      "text/plain": [
       "<Figure size 1440x720 with 1 Axes>"
      ]
     },
     "metadata": {
      "needs_background": "light"
     },
     "output_type": "display_data"
    }
   ],
   "source": [
    "reducer = umap.UMAP( random_state=42)\n",
    "embedding = reducer.fit_transform( X )\n",
    "\n",
    "# embedding\n",
    "df_viz['embedding_x'] = embedding[:,0]\n",
    "df_viz['embedding_y'] = embedding[:,1]\n",
    "# df_viz['embedding_z'] = embedding[:,2]\n",
    "\n",
    "# plot UMAP\n",
    "fig = plt.figure(figsize=(20,10))\n",
    "# px.scatter_3d(x='embedding_x',y='embedding_y',z='embedding_z',color='cluster',data_frame=df_viz).show()\n",
    "sns.scatterplot(x='embedding_x',y='embedding_y',hue='cluster',palette='viridis', data=df_viz)"
   ]
  },
  {
   "cell_type": "markdown",
   "id": "fff730e4",
   "metadata": {},
   "source": [
    "## <font color = 'b'> 9.2. Cluster Profile </f>"
   ]
  },
  {
   "cell_type": "code",
   "execution_count": 64,
   "id": "7d07913d",
   "metadata": {
    "ExecuteTime": {
     "end_time": "2022-09-07T17:27:43.802150Z",
     "start_time": "2022-09-07T17:27:43.791158Z"
    }
   },
   "outputs": [
    {
     "data": {
      "text/html": [
       "<div>\n",
       "<style scoped>\n",
       "    .dataframe tbody tr th:only-of-type {\n",
       "        vertical-align: middle;\n",
       "    }\n",
       "\n",
       "    .dataframe tbody tr th {\n",
       "        vertical-align: top;\n",
       "    }\n",
       "\n",
       "    .dataframe thead th {\n",
       "        text-align: right;\n",
       "    }\n",
       "</style>\n",
       "<table border=\"1\" class=\"dataframe\">\n",
       "  <thead>\n",
       "    <tr style=\"text-align: right;\">\n",
       "      <th></th>\n",
       "      <th>customer_id</th>\n",
       "      <th>gross_revenue</th>\n",
       "      <th>recency_days</th>\n",
       "      <th>invoice_no</th>\n",
       "      <th>avg_ticket</th>\n",
       "      <th>cluster</th>\n",
       "    </tr>\n",
       "  </thead>\n",
       "  <tbody>\n",
       "    <tr>\n",
       "      <th>0</th>\n",
       "      <td>17850</td>\n",
       "      <td>0.370775</td>\n",
       "      <td>2.798137</td>\n",
       "      <td>3.858949</td>\n",
       "      <td>-0.033856</td>\n",
       "      <td>1</td>\n",
       "    </tr>\n",
       "    <tr>\n",
       "      <th>1</th>\n",
       "      <td>13047</td>\n",
       "      <td>0.131350</td>\n",
       "      <td>-0.609622</td>\n",
       "      <td>0.743157</td>\n",
       "      <td>-0.033399</td>\n",
       "      <td>2</td>\n",
       "    </tr>\n",
       "    <tr>\n",
       "      <th>2</th>\n",
       "      <td>12583</td>\n",
       "      <td>0.580906</td>\n",
       "      <td>-0.899432</td>\n",
       "      <td>1.392280</td>\n",
       "      <td>-0.026143</td>\n",
       "      <td>2</td>\n",
       "    </tr>\n",
       "    <tr>\n",
       "      <th>3</th>\n",
       "      <td>13748</td>\n",
       "      <td>-0.123151</td>\n",
       "      <td>0.029957</td>\n",
       "      <td>0.094034</td>\n",
       "      <td>-0.023156</td>\n",
       "      <td>2</td>\n",
       "    </tr>\n",
       "    <tr>\n",
       "      <th>4</th>\n",
       "      <td>15100</td>\n",
       "      <td>-0.131183</td>\n",
       "      <td>2.408394</td>\n",
       "      <td>-0.165616</td>\n",
       "      <td>0.152610</td>\n",
       "      <td>1</td>\n",
       "    </tr>\n",
       "  </tbody>\n",
       "</table>\n",
       "</div>"
      ],
      "text/plain": [
       "   customer_id  gross_revenue  recency_days  invoice_no  avg_ticket  cluster\n",
       "0        17850       0.370775      2.798137    3.858949   -0.033856        1\n",
       "1        13047       0.131350     -0.609622    0.743157   -0.033399        2\n",
       "2        12583       0.580906     -0.899432    1.392280   -0.026143        2\n",
       "3        13748      -0.123151      0.029957    0.094034   -0.023156        2\n",
       "4        15100      -0.131183      2.408394   -0.165616    0.152610        1"
      ]
     },
     "execution_count": 64,
     "metadata": {},
     "output_type": "execute_result"
    }
   ],
   "source": [
    "df9.head()"
   ]
  },
  {
   "cell_type": "code",
   "execution_count": 65,
   "id": "a7e8b0b9",
   "metadata": {
    "ExecuteTime": {
     "end_time": "2022-09-07T17:27:43.839029Z",
     "start_time": "2022-09-07T17:27:43.804124Z"
    }
   },
   "outputs": [],
   "source": [
    "# Number of customer\n",
    "df_cluster = df9[['customer_id','cluster']].groupby('cluster').count().reset_index()\n",
    "df_cluster['perc_customer'] = 100*(df_cluster['customer_id'] / df_cluster['customer_id'].sum())\n",
    "\n",
    "# Averege Gross Revenue\n",
    "df_avg_gross_revenue = df9[['gross_revenue','cluster']].groupby('cluster').mean().reset_index()\n",
    "df_avg_gross_revenue['perc_gross'] = 100*(df_avg_gross_revenue['gross_revenue']/df_avg_gross_revenue['gross_revenue'].sum())\n",
    "df_cluster = pd.merge(df_cluster,df_avg_gross_revenue,how='left',on='cluster')\n",
    "\n",
    "# Average Recency Days\n",
    "df_avg_recency_days = df9[['recency_days','cluster']].groupby('cluster').mean().reset_index()\n",
    "df_cluster = pd.merge(df_cluster,df_avg_recency_days,how='left',on='cluster')\n",
    "\n",
    "# Averege Invoices\n",
    "df_avg_invoices = df9[['invoice_no','cluster']].groupby('cluster').mean().reset_index()\n",
    "df_avg_invoices['perc_invoices'] = 100*(df_avg_invoices['invoice_no']/df_avg_invoices['invoice_no'].sum())\n",
    "df_cluster = pd.merge(df_cluster,df_avg_invoices,how='left',on='cluster')\n",
    "\n",
    "# Averege Invoices\n",
    "df_avg_ticket = df9[['avg_ticket','cluster']].groupby('cluster').mean().reset_index()\n",
    "df_cluster = pd.merge(df_cluster,df_avg_ticket,how='left',on='cluster')"
   ]
  },
  {
   "cell_type": "code",
   "execution_count": 66,
   "id": "f45132a7",
   "metadata": {
    "ExecuteTime": {
     "end_time": "2022-09-07T17:27:43.853769Z",
     "start_time": "2022-09-07T17:27:43.840535Z"
    }
   },
   "outputs": [
    {
     "data": {
      "text/html": [
       "<div>\n",
       "<style scoped>\n",
       "    .dataframe tbody tr th:only-of-type {\n",
       "        vertical-align: middle;\n",
       "    }\n",
       "\n",
       "    .dataframe tbody tr th {\n",
       "        vertical-align: top;\n",
       "    }\n",
       "\n",
       "    .dataframe thead th {\n",
       "        text-align: right;\n",
       "    }\n",
       "</style>\n",
       "<table border=\"1\" class=\"dataframe\">\n",
       "  <thead>\n",
       "    <tr style=\"text-align: right;\">\n",
       "      <th></th>\n",
       "      <th>cluster</th>\n",
       "      <th>customer_id</th>\n",
       "      <th>perc_customer</th>\n",
       "      <th>gross_revenue</th>\n",
       "      <th>perc_gross</th>\n",
       "      <th>recency_days</th>\n",
       "      <th>invoice_no</th>\n",
       "      <th>perc_invoices</th>\n",
       "      <th>avg_ticket</th>\n",
       "    </tr>\n",
       "  </thead>\n",
       "  <tbody>\n",
       "    <tr>\n",
       "      <th>0</th>\n",
       "      <td>0</td>\n",
       "      <td>14</td>\n",
       "      <td>0.323251</td>\n",
       "      <td>13.529129</td>\n",
       "      <td>101.263959</td>\n",
       "      <td>-0.626040</td>\n",
       "      <td>9.404318</td>\n",
       "      <td>102.984080</td>\n",
       "      <td>6.541112</td>\n",
       "    </tr>\n",
       "    <tr>\n",
       "      <th>1</th>\n",
       "      <td>1</td>\n",
       "      <td>1089</td>\n",
       "      <td>25.144308</td>\n",
       "      <td>-0.166292</td>\n",
       "      <td>-1.244678</td>\n",
       "      <td>1.536166</td>\n",
       "      <td>-0.349683</td>\n",
       "      <td>-3.829281</td>\n",
       "      <td>-0.010678</td>\n",
       "    </tr>\n",
       "    <tr>\n",
       "      <th>2</th>\n",
       "      <td>2</td>\n",
       "      <td>3228</td>\n",
       "      <td>74.532441</td>\n",
       "      <td>-0.002576</td>\n",
       "      <td>-0.019282</td>\n",
       "      <td>-0.515527</td>\n",
       "      <td>0.077182</td>\n",
       "      <td>0.845201</td>\n",
       "      <td>-0.024767</td>\n",
       "    </tr>\n",
       "  </tbody>\n",
       "</table>\n",
       "</div>"
      ],
      "text/plain": [
       "   cluster  customer_id  perc_customer  gross_revenue  perc_gross  \\\n",
       "0        0           14       0.323251      13.529129  101.263959   \n",
       "1        1         1089      25.144308      -0.166292   -1.244678   \n",
       "2        2         3228      74.532441      -0.002576   -0.019282   \n",
       "\n",
       "   recency_days  invoice_no  perc_invoices  avg_ticket  \n",
       "0     -0.626040    9.404318     102.984080    6.541112  \n",
       "1      1.536166   -0.349683      -3.829281   -0.010678  \n",
       "2     -0.515527    0.077182       0.845201   -0.024767  "
      ]
     },
     "execution_count": 66,
     "metadata": {},
     "output_type": "execute_result"
    }
   ],
   "source": [
    "df_cluster"
   ]
  },
  {
   "cell_type": "markdown",
   "id": "76dd3835",
   "metadata": {
    "ExecuteTime": {
     "end_time": "2022-09-03T20:11:22.705558Z",
     "start_time": "2022-09-03T20:11:22.692554Z"
    },
    "heading_collapsed": true
   },
   "source": [
    "### Cluster 01: Candidato à Insider \n",
    "    - Número de Customers: 6 (0.14% da base)\n",
    "    - Recência média: 7 dias\n",
    "    - Compras em média: 89 compras\n",
    "    - Receita em média: R$ 182.182,00 dolares\n",
    "    \n",
    "    \n",
    "### Cluster 02:\n",
    "    - Número de Customers: 31 (0.71% da base)\n",
    "    - Recência média: 13 dias\n",
    "    - Compras em média: 18 compras\n",
    "    - Receita em média: R$ 40.543,00 dolares\n",
    "    \n",
    "### Cluster 00: \n",
    "    - Número de Customers: 4335 (99.15% da base)\n",
    "    - Recência média: 92 dias\n",
    "    - Compras em média: 5 compras\n",
    "    - Receita em média: R$ 1.372,00 dolares"
   ]
  },
  {
   "cell_type": "markdown",
   "id": "8d5da294",
   "metadata": {},
   "source": [
    "# <font color = 'green'> 10.0. Deploy to Production </f>"
   ]
  },
  {
   "cell_type": "markdown",
   "id": "e769559d",
   "metadata": {},
   "source": [
    "# <font color = 'green'> 11.0. Sand Box </f>"
   ]
  },
  {
   "cell_type": "markdown",
   "id": "945cfdc1",
   "metadata": {},
   "source": [
    "## <font color = 'b'> 11.1. Original Dataset </f>"
   ]
  },
  {
   "cell_type": "code",
   "execution_count": 67,
   "id": "03f334bc",
   "metadata": {
    "ExecuteTime": {
     "end_time": "2022-09-07T17:27:44.006056Z",
     "start_time": "2022-09-07T17:27:43.855766Z"
    }
   },
   "outputs": [],
   "source": [
    "from sklearn import cluster as c\n",
    "\n",
    "from sklearn.datasets import make_blobs\n",
    "from yellowbrick.cluster import SilhouetteVisualizer, KElbowVisualizer\n",
    "from matplotlib import pyplot as plt"
   ]
  },
  {
   "cell_type": "code",
   "execution_count": 68,
   "id": "05f98ee8",
   "metadata": {
    "ExecuteTime": {
     "end_time": "2022-09-07T17:27:44.164705Z",
     "start_time": "2022-09-07T17:27:44.008883Z"
    },
    "cell_style": "split",
    "scrolled": true
   },
   "outputs": [
    {
     "name": "stderr",
     "output_type": "stream",
     "text": [
      "C:\\Users\\Notebook\\anaconda3\\envs\\insiders-clustering-env\\lib\\site-packages\\seaborn\\_decorators.py:36: FutureWarning: Pass the following variables as keyword args: x, y. From version 0.12, the only valid positional argument will be `data`, and passing other arguments without an explicit keyword will result in an error or misinterpretation.\n",
      "  warnings.warn(\n"
     ]
    },
    {
     "data": {
      "image/png": "[encoded data removed]",
      "text/plain": [
       "<Figure size 432x288 with 1 Axes>"
      ]
     },
     "metadata": {
      "needs_background": "light"
     },
     "output_type": "display_data"
    }
   ],
   "source": [
    "X, y= make_blobs(n_samples=500,\n",
    "                 centers = 4,\n",
    "                 cluster_std=1,\n",
    "                 center_box = [-10,10],\n",
    "                 shuffle=True,\n",
    "                 random_state=1)\n",
    "\n",
    "sns.scatterplot(X[:,0],X[:,1]);"
   ]
  },
  {
   "cell_type": "code",
   "execution_count": 69,
   "id": "6687b3c8",
   "metadata": {
    "ExecuteTime": {
     "end_time": "2022-09-07T17:27:44.606283Z",
     "start_time": "2022-09-07T17:27:44.166700Z"
    },
    "cell_style": "split"
   },
   "outputs": [
    {
     "data": {
      "image/png": "[encoded data removed]",
      "text/plain": [
       "<Figure size 432x288 with 1 Axes>"
      ]
     },
     "metadata": {
      "needs_background": "light"
     },
     "output_type": "display_data"
    },
    {
     "data": {
      "text/plain": [
       "<AxesSubplot:title={'center':'Distortion Score Elbow for KMeans Clustering'}, xlabel='k', ylabel='distortion score'>"
      ]
     },
     "execution_count": 69,
     "metadata": {},
     "output_type": "execute_result"
    }
   ],
   "source": [
    "kmeans = KElbowVisualizer(c.KMeans(), k = clusters, timings = False)\n",
    "kmeans.fit( X )\n",
    "kmeans.show()"
   ]
  },
  {
   "cell_type": "markdown",
   "id": "23c0ce44",
   "metadata": {},
   "source": [
    "## <font color = 'b'> 11.2. Silhoutte Analysis </f>"
   ]
  },
  {
   "cell_type": "code",
   "execution_count": 70,
   "id": "d6221792",
   "metadata": {
    "ExecuteTime": {
     "end_time": "2022-09-07T17:27:46.700327Z",
     "start_time": "2022-09-07T17:27:44.609249Z"
    },
    "cell_style": "split"
   },
   "outputs": [
    {
     "ename": "IndexError",
     "evalue": "index 2 is out of bounds for axis 0 with size 2",
     "output_type": "error",
     "traceback": [
      "\u001b[1;31m---------------------------------------------------------------------------\u001b[0m",
      "\u001b[1;31mIndexError\u001b[0m                                Traceback (most recent call last)",
      "Input \u001b[1;32mIn [70]\u001b[0m, in \u001b[0;36m<cell line: 2>\u001b[1;34m()\u001b[0m\n\u001b[0;32m      4\u001b[0m kmeans\u001b[38;5;241m.\u001b[39mfit(X)\n\u001b[0;32m      6\u001b[0m q, mod \u001b[38;5;241m=\u001b[39m \u001b[38;5;28mdivmod\u001b[39m(i,\u001b[38;5;241m2\u001b[39m)\n\u001b[1;32m----> 7\u001b[0m \u001b[43max\u001b[49m\u001b[43m[\u001b[49m\u001b[43mq\u001b[49m\u001b[38;5;241;43m-\u001b[39;49m\u001b[38;5;241;43m1\u001b[39;49m\u001b[43m,\u001b[49m\u001b[43mmod\u001b[49m\u001b[43m]\u001b[49m\u001b[38;5;241m.\u001b[39mscatter(X[:,\u001b[38;5;241m0\u001b[39m],X[:,\u001b[38;5;241m1\u001b[39m],c\u001b[38;5;241m=\u001b[39mkmeans\u001b[38;5;241m.\u001b[39mlabels_,cmap\u001b[38;5;241m=\u001b[39m\u001b[38;5;124m'\u001b[39m\u001b[38;5;124mviridis\u001b[39m\u001b[38;5;124m'\u001b[39m)\n\u001b[0;32m      8\u001b[0m ax[q\u001b[38;5;241m-\u001b[39m\u001b[38;5;241m1\u001b[39m,mod]\u001b[38;5;241m.\u001b[39mset_title(\u001b[38;5;124m'\u001b[39m\u001b[38;5;124mNumber of Clusters: \u001b[39m\u001b[38;5;132;01m{}\u001b[39;00m\u001b[38;5;124m'\u001b[39m\u001b[38;5;241m.\u001b[39mformat(i))\n",
      "\u001b[1;31mIndexError\u001b[0m: index 2 is out of bounds for axis 0 with size 2"
     ]
    },
    {
     "data": {
      "image/png": "[encoded data removed]",
      "text/plain": [
       "<Figure size 864x576 with 4 Axes>"
      ]
     },
     "metadata": {
      "needs_background": "light"
     },
     "output_type": "display_data"
    }
   ],
   "source": [
    "fig, ax = plt.subplots(2, 2, figsize=(12,8))\n",
    "for i in clusters:\n",
    "    kmeans = c.KMeans(n_clusters=i, init='k-means++',n_init=10,max_iter=300, random_state=42)\n",
    "    kmeans.fit(X)\n",
    "    \n",
    "    q, mod = divmod(i,2)\n",
    "    ax[q-1,mod].scatter(X[:,0],X[:,1],c=kmeans.labels_,cmap='viridis')\n",
    "    ax[q-1,mod].set_title('Number of Clusters: {}'.format(i))"
   ]
  },
  {
   "cell_type": "code",
   "execution_count": null,
   "id": "80451c4e",
   "metadata": {
    "ExecuteTime": {
     "end_time": "2022-09-07T17:27:46.706306Z",
     "start_time": "2022-09-07T17:27:46.706306Z"
    },
    "cell_style": "split"
   },
   "outputs": [],
   "source": [
    "fig, ax = plt.subplots(2, 2, figsize=(12,8))\n",
    "for i in clusters:\n",
    "    kmeans = c.KMeans(n_clusters=i, init='k-means++',n_init=10,max_iter=300, random_state=42)\n",
    "    \n",
    "    q, mod = divmod(i,2)\n",
    "    \n",
    "    visualizer = SilhouetteVisualizer(kmeans,colors='yellowbrick',ax=ax[q-1,mod])\n",
    "    visualizer.fit(X)\n",
    "    visualizer.finalize()\n",
    "    plt.tight_layout()"
   ]
  },
  {
   "cell_type": "code",
   "execution_count": null,
   "id": "e5359b63",
   "metadata": {},
   "outputs": [],
   "source": []
  }
 ],
 "metadata": {
  "kernelspec": {
   "display_name": "Python 3 (ipykernel)",
   "language": "python",
   "name": "python3"
  },
  "language_info": {
   "codemirror_mode": {
    "name": "ipython",
    "version": 3
   },
   "file_extension": ".py",
   "mimetype": "text/x-python",
   "name": "python",
   "nbconvert_exporter": "python",
   "pygments_lexer": "ipython3",
   "version": "3.9.12"
  }
 },
 "nbformat": 4,
 "nbformat_minor": 5
}
